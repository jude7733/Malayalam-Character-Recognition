{
  "nbformat": 4,
  "nbformat_minor": 0,
  "metadata": {
    "colab": {
      "provenance": [],
      "gpuType": "T4"
    },
    "kernelspec": {
      "name": "python3",
      "display_name": "Python 3"
    },
    "language_info": {
      "name": "python"
    },
    "accelerator": "GPU"
  },
  "cells": [
    {
      "cell_type": "code",
      "source": [
        "import tensorflow as tf\n",
        "from tensorflow.keras.applications import MobileNetV3Small\n",
        "from tensorflow.keras.layers import Input, Lambda, Dense, GlobalAveragePooling2D, Dropout, BatchNormalization\n",
        "from tensorflow.keras.utils import to_categorical\n",
        "from tensorflow.keras import layers, Model, optimizers, Sequential\n",
        "from tensorflow.keras.preprocessing.image import ImageDataGenerator\n",
        "from tensorflow.keras.optimizers import RMSprop\n",
        "from tensorflow.keras.losses import BinaryCrossentropy\n",
        "from tensorflow.keras.metrics import Accuracy\n",
        "\n",
        "import matplotlib.pyplot as plt\n",
        "import numpy as np\n",
        "import pandas as pd"
      ],
      "metadata": {
        "id": "XFDcTvpbnDim"
      },
      "execution_count": 2,
      "outputs": []
    },
    {
      "cell_type": "markdown",
      "source": [
        "# Load dataset"
      ],
      "metadata": {
        "id": "_EVdPHzBkxgz"
      }
    },
    {
      "cell_type": "code",
      "source": [
        "!gdown 'https://drive.google.com/uc?export=download&id=1phWikkOYex57DGxgNv3PgkF0pQ9Nsm1a'\n",
        "!gdown 'https://drive.google.com/uc?export=download&id=1ykhOpo8ZjgDfbQ2CdR-zN-X_T8WEtL00'\n",
        "!gdown 'https://drive.google.com/uc?export=download&id=1hzhmO5ZK_aVHUfGeWf3s4bHQPyl5EzUJ'"
      ],
      "metadata": {
        "id": "f5-OjVH8kw1Q",
        "colab": {
          "base_uri": "https://localhost:8080/"
        },
        "outputId": "4f3ff0ff-d3fb-4c7b-976a-c9929cd8debd"
      },
      "execution_count": 3,
      "outputs": [
        {
          "output_type": "stream",
          "name": "stdout",
          "text": [
            "Downloading...\n",
            "From: https://drive.google.com/uc?export=download&id=1phWikkOYex57DGxgNv3PgkF0pQ9Nsm1a\n",
            "To: /content/Handwritten_V2_train.csv\n",
            "100% 35.3M/35.3M [00:00<00:00, 183MB/s]\n",
            "Downloading...\n",
            "From: https://drive.google.com/uc?export=download&id=1ykhOpo8ZjgDfbQ2CdR-zN-X_T8WEtL00\n",
            "To: /content/Handwritten_V2_valid.csv\n",
            "100% 11.7M/11.7M [00:00<00:00, 40.3MB/s]\n",
            "Downloading...\n",
            "From: https://drive.google.com/uc?export=download&id=1hzhmO5ZK_aVHUfGeWf3s4bHQPyl5EzUJ\n",
            "To: /content/Handwritten_V2_test.csv\n",
            "100% 13.0M/13.0M [00:00<00:00, 49.6MB/s]\n"
          ]
        }
      ]
    },
    {
      "cell_type": "code",
      "source": [
        "train = pd.read_csv(\"Handwritten_V2_train.csv\")\n",
        "test = pd.read_csv(\"Handwritten_V2_test.csv\")\n",
        "validate = pd.read_csv(\"Handwritten_V2_valid.csv\")"
      ],
      "metadata": {
        "id": "71_R-WYSnOIE"
      },
      "execution_count": 4,
      "outputs": []
    },
    {
      "cell_type": "markdown",
      "source": [
        "#### Split dataset into train, test, validate"
      ],
      "metadata": {
        "id": "v-VQR__xwqbq"
      }
    },
    {
      "cell_type": "code",
      "source": [
        "train_images = train.iloc[:, 1:].values\n",
        "test_images = test.iloc[:, 1:].values\n",
        "train_labels = train.iloc[:, 0].values\n",
        "test_labels = test.iloc[:, 0].values\n",
        "validate_labels = validate.iloc[:, 0].values\n",
        "validate_images = validate.iloc[:, 1:].values"
      ],
      "metadata": {
        "id": "SdrlU5mZnRL9"
      },
      "execution_count": 5,
      "outputs": []
    },
    {
      "cell_type": "markdown",
      "source": [
        "#### Classes"
      ],
      "metadata": {
        "id": "nlT-PkXRrMcp"
      }
    },
    {
      "cell_type": "code",
      "source": [
        "np.unique(train_labels)"
      ],
      "metadata": {
        "colab": {
          "base_uri": "https://localhost:8080/"
        },
        "id": "abGN8amVS_o7",
        "outputId": "8bafaadf-529a-4a61-b568-4439b233199e"
      },
      "execution_count": 6,
      "outputs": [
        {
          "output_type": "execute_result",
          "data": {
            "text/plain": [
              "array([ 1,  2,  3,  4,  5,  6,  7,  8,  9, 10, 11, 12, 13, 14, 15, 16, 17,\n",
              "       18, 19, 20, 21, 22, 23, 24, 25, 26, 27, 28, 29, 30, 31, 32, 33, 34,\n",
              "       35, 36, 37, 38, 39, 40, 41, 42, 43, 44, 45, 46, 47, 48, 49, 50, 51,\n",
              "       52, 53, 54, 55, 56, 57, 58, 59, 60, 61, 62, 63, 64, 65, 66, 67, 68,\n",
              "       69, 70, 71, 72, 73, 74, 75, 76, 77, 78, 79, 80, 81, 82, 83, 84, 85])"
            ]
          },
          "metadata": {},
          "execution_count": 6
        }
      ]
    },
    {
      "cell_type": "code",
      "source": [
        "num_classes = 85"
      ],
      "metadata": {
        "id": "oexSn-uAsElY"
      },
      "execution_count": 7,
      "outputs": []
    },
    {
      "cell_type": "markdown",
      "source": [
        "#### Reshape to 32 x 32 with 3 channels"
      ],
      "metadata": {
        "id": "uH7Hrfcswzid"
      }
    },
    {
      "cell_type": "code",
      "source": [
        "train_images = np.concatenate([train_images.reshape(-1, 32, 32, 1)] * 3, axis=-1)\n",
        "test_images = np.concatenate([test_images.reshape(-1, 32, 32, 1)] * 3, axis=-1)\n",
        "validate_images = np.concatenate([validate_images.reshape(-1, 32, 32, 1)] * 3, axis=-1)"
      ],
      "metadata": {
        "id": "naC3MAzBNoJt"
      },
      "execution_count": 8,
      "outputs": []
    },
    {
      "cell_type": "code",
      "source": [
        "print(\"train shape: \",train_images.shape, \"test shape: \", test_images.shape, \"validate shape: \", validate_images.shape)"
      ],
      "metadata": {
        "colab": {
          "base_uri": "https://localhost:8080/"
        },
        "id": "oaTogmsVNxI8",
        "outputId": "7941ee4c-9731-40b5-a30c-4896947e5c2a"
      },
      "execution_count": 38,
      "outputs": [
        {
          "output_type": "stream",
          "name": "stdout",
          "text": [
            "train shape:  (17235, 32, 32, 3) test shape:  (6359, 32, 32, 3) validate shape:  (5705, 32, 32, 3)\n"
          ]
        }
      ]
    },
    {
      "cell_type": "markdown",
      "source": [
        "### Data Augmentation"
      ],
      "metadata": {
        "id": "vVKSPA3uGslu"
      }
    },
    {
      "cell_type": "code",
      "source": [
        "datagen = ImageDataGenerator(\n",
        "    rescale=1./255,\n",
        "    rotation_range=10,\n",
        "    width_shift_range=0.05,\n",
        "    height_shift_range=0.05,\n",
        "    zoom_range=0.05,\n",
        "    horizontal_flip=True\n",
        ")\n",
        "#train_generator = gen.flow(train_images, train_labels, batch_size=32)"
      ],
      "metadata": {
        "id": "6HheGAFxGsBh"
      },
      "execution_count": 12,
      "outputs": []
    },
    {
      "cell_type": "code",
      "source": [
        "target_per_class = 250\n",
        "augmented_images = []\n",
        "augmented_labels = []"
      ],
      "metadata": {
        "id": "sXL_WeUtsAsU"
      },
      "execution_count": 13,
      "outputs": []
    },
    {
      "cell_type": "code",
      "source": [
        "for class_idx in range(1, num_classes+1):\n",
        "    Xc = train_images[train_labels == class_idx]\n",
        "    print(f\"Class {class_idx}: found {Xc.shape[0]} images\")\n",
        "    if Xc.shape[0] == 0:\n",
        "      continue\n",
        "    count = Xc.shape[0]\n",
        "    # Determine how many new images are needed for this class\n",
        "    need = target_per_class - count\n",
        "    if need <= 0:\n",
        "        continue\n",
        "    # Use flow to generate `need` augmented images for this class\n",
        "    gen = datagen.flow(Xc, batch_size=1, shuffle=True)\n",
        "    for _ in range(need):\n",
        "        batch = next(gen)\n",
        "        img = batch[0]\n",
        "        augmented_images.append(img)\n",
        "        augmented_labels.append(class_idx)\n",
        "\n",
        "# Combine original and augmented data\n",
        "x_aug = np.concatenate([train_images, np.array(augmented_images)], axis=0)\n",
        "y_aug = np.concatenate([train_labels, np.array(augmented_labels)], axis=0)\n",
        "print(f\"Augmented data shape: {x_aug.shape}, labels shape: {y_aug.shape}\")"
      ],
      "metadata": {
        "colab": {
          "base_uri": "https://localhost:8080/"
        },
        "id": "dms6C9VEOCF3",
        "outputId": "4709f3e7-c14e-4982-9591-cfe74a2b087d"
      },
      "execution_count": 15,
      "outputs": [
        {
          "output_type": "stream",
          "name": "stdout",
          "text": [
            "Class 1: found 179 images\n",
            "Class 2: found 316 images\n",
            "Class 3: found 192 images\n",
            "Class 4: found 190 images\n",
            "Class 5: found 180 images\n",
            "Class 6: found 183 images\n",
            "Class 7: found 175 images\n",
            "Class 8: found 194 images\n",
            "Class 9: found 204 images\n",
            "Class 10: found 230 images\n",
            "Class 11: found 171 images\n",
            "Class 12: found 228 images\n",
            "Class 13: found 191 images\n",
            "Class 14: found 225 images\n",
            "Class 15: found 234 images\n",
            "Class 16: found 197 images\n",
            "Class 17: found 220 images\n",
            "Class 18: found 198 images\n",
            "Class 19: found 250 images\n",
            "Class 20: found 211 images\n",
            "Class 21: found 202 images\n",
            "Class 22: found 210 images\n",
            "Class 23: found 201 images\n",
            "Class 24: found 186 images\n",
            "Class 25: found 198 images\n",
            "Class 26: found 191 images\n",
            "Class 27: found 205 images\n",
            "Class 28: found 180 images\n",
            "Class 29: found 200 images\n",
            "Class 30: found 209 images\n",
            "Class 31: found 190 images\n",
            "Class 32: found 185 images\n",
            "Class 33: found 197 images\n",
            "Class 34: found 213 images\n",
            "Class 35: found 213 images\n",
            "Class 36: found 215 images\n",
            "Class 37: found 207 images\n",
            "Class 38: found 197 images\n",
            "Class 39: found 198 images\n",
            "Class 40: found 177 images\n",
            "Class 41: found 209 images\n",
            "Class 42: found 205 images\n",
            "Class 43: found 198 images\n",
            "Class 44: found 217 images\n",
            "Class 45: found 206 images\n",
            "Class 46: found 201 images\n",
            "Class 47: found 180 images\n",
            "Class 48: found 210 images\n",
            "Class 49: found 204 images\n",
            "Class 50: found 197 images\n",
            "Class 51: found 206 images\n",
            "Class 52: found 200 images\n",
            "Class 53: found 205 images\n",
            "Class 54: found 192 images\n",
            "Class 55: found 209 images\n",
            "Class 56: found 214 images\n",
            "Class 57: found 219 images\n",
            "Class 58: found 217 images\n",
            "Class 59: found 221 images\n",
            "Class 60: found 223 images\n",
            "Class 61: found 212 images\n",
            "Class 62: found 201 images\n",
            "Class 63: found 213 images\n",
            "Class 64: found 216 images\n",
            "Class 65: found 208 images\n",
            "Class 66: found 216 images\n",
            "Class 67: found 207 images\n",
            "Class 68: found 217 images\n",
            "Class 69: found 204 images\n",
            "Class 70: found 138 images\n",
            "Class 71: found 210 images\n",
            "Class 72: found 207 images\n",
            "Class 73: found 186 images\n",
            "Class 74: found 218 images\n",
            "Class 75: found 202 images\n",
            "Class 76: found 189 images\n",
            "Class 77: found 213 images\n",
            "Class 78: found 216 images\n",
            "Class 79: found 196 images\n",
            "Class 80: found 173 images\n",
            "Class 81: found 180 images\n",
            "Class 82: found 195 images\n",
            "Class 83: found 166 images\n",
            "Class 84: found 177 images\n",
            "Class 85: found 200 images\n",
            "Augmented data shape: (25397, 32, 32, 3), labels shape: (25397,)\n"
          ]
        }
      ]
    },
    {
      "cell_type": "code",
      "source": [
        "plt.imshow(x_aug[10000])\n",
        "plt.axis('off')\n",
        "plt.show()"
      ],
      "metadata": {
        "colab": {
          "base_uri": "https://localhost:8080/",
          "height": 406
        },
        "id": "Ktj4WBssGrv9",
        "outputId": "58060598-635c-44f8-cf5c-40077b68949c"
      },
      "execution_count": 17,
      "outputs": [
        {
          "output_type": "display_data",
          "data": {
            "text/plain": [
              "<Figure size 640x480 with 1 Axes>"
            ],
            "image/png": "[encoded data removed]"
          },
          "metadata": {}
        }
      ]
    },
    {
      "cell_type": "markdown",
      "source": [
        "## One hot encoding"
      ],
      "metadata": {
        "id": "pMCM1KsvrCuo"
      }
    },
    {
      "cell_type": "markdown",
      "source": [
        "Make labels from 0-84 for proper encoding"
      ],
      "metadata": {
        "id": "lAVlRI-Lu3oa"
      }
    },
    {
      "cell_type": "code",
      "source": [
        "y_aug = np.array(y_aug) - 1\n",
        "test_labels = np.array(test_labels) - 1\n",
        "validate_labels = np.array(validate_labels) - 1"
      ],
      "metadata": {
        "id": "zLI82SY6t54p"
      },
      "execution_count": 18,
      "outputs": []
    },
    {
      "cell_type": "code",
      "source": [
        "np.unique(y_aug)"
      ],
      "metadata": {
        "colab": {
          "base_uri": "https://localhost:8080/"
        },
        "id": "3F9HmZZUugBe",
        "outputId": "ca4c3604-06ea-4846-896d-6f52055808e7"
      },
      "execution_count": 20,
      "outputs": [
        {
          "output_type": "execute_result",
          "data": {
            "text/plain": [
              "array([ 0,  1,  2,  3,  4,  5,  6,  7,  8,  9, 10, 11, 12, 13, 14, 15, 16,\n",
              "       17, 18, 19, 20, 21, 22, 23, 24, 25, 26, 27, 28, 29, 30, 31, 32, 33,\n",
              "       34, 35, 36, 37, 38, 39, 40, 41, 42, 43, 44, 45, 46, 47, 48, 49, 50,\n",
              "       51, 52, 53, 54, 55, 56, 57, 58, 59, 60, 61, 62, 63, 64, 65, 66, 67,\n",
              "       68, 69, 70, 71, 72, 73, 74, 75, 76, 77, 78, 79, 80, 81, 82, 83, 84])"
            ]
          },
          "metadata": {},
          "execution_count": 20
        }
      ]
    },
    {
      "cell_type": "code",
      "source": [
        "y_aug = to_categorical(y_aug, num_classes=num_classes)\n",
        "test_labels = to_categorical(test_labels, num_classes=num_classes)\n",
        "validate_labels = to_categorical(validate_labels, num_classes=num_classes)"
      ],
      "metadata": {
        "id": "l2r-3UDlrB2t"
      },
      "execution_count": 21,
      "outputs": []
    },
    {
      "cell_type": "code",
      "source": [
        "y_aug.shape"
      ],
      "metadata": {
        "colab": {
          "base_uri": "https://localhost:8080/"
        },
        "id": "cHDPaHlbrT0X",
        "outputId": "ecc627f6-dc7b-4bb7-a099-b37fd4ed1af1"
      },
      "execution_count": 22,
      "outputs": [
        {
          "output_type": "execute_result",
          "data": {
            "text/plain": [
              "(25397, 85)"
            ]
          },
          "metadata": {},
          "execution_count": 22
        }
      ]
    },
    {
      "cell_type": "markdown",
      "source": [
        "### MobileNet Model"
      ],
      "metadata": {
        "id": "seSdpJgcJkgk"
      }
    },
    {
      "cell_type": "code",
      "source": [
        "base_model = MobileNetV3Small(input_shape=(32, 32, 3), include_top=False, weights='imagenet')"
      ],
      "metadata": {
        "id": "ZSaQPxidO5C_",
        "colab": {
          "base_uri": "https://localhost:8080/"
        },
        "outputId": "d68e66e2-25f5-4627-96a6-0c0257478996"
      },
      "execution_count": 23,
      "outputs": [
        {
          "output_type": "stream",
          "name": "stderr",
          "text": [
            "/usr/local/lib/python3.11/dist-packages/keras/src/applications/mobilenet_v3.py:452: UserWarning: `input_shape` is undefined or non-square, or `rows` is not 224. Weights for input shape (224, 224) will be loaded as the default.\n",
            "  return MobileNetV3(\n"
          ]
        }
      ]
    },
    {
      "cell_type": "markdown",
      "source": [
        "###Freezing the base model"
      ],
      "metadata": {
        "id": "BNpEJtQGntyq"
      }
    },
    {
      "cell_type": "code",
      "source": [
        "base_model.trainable = False\n",
        "for layer in base_model.layers[-3:]:\n",
        "    layer.trainable = True"
      ],
      "metadata": {
        "id": "4wB17wOQnskV"
      },
      "execution_count": 24,
      "outputs": []
    },
    {
      "cell_type": "markdown",
      "source": [
        "### Making trainable classifier"
      ],
      "metadata": {
        "id": "50HJ-DkXoD05"
      }
    },
    {
      "cell_type": "code",
      "source": [
        "model = Sequential([base_model,\n",
        "                    tf.keras.layers.GlobalAveragePooling2D(),\n",
        "                    Dense(85, activation='softmax')])"
      ],
      "metadata": {
        "id": "3HACAnz7pKiq"
      },
      "execution_count": 25,
      "outputs": []
    },
    {
      "cell_type": "code",
      "source": [
        "model.summary()"
      ],
      "metadata": {
        "colab": {
          "base_uri": "https://localhost:8080/",
          "height": 287
        },
        "id": "9cRVgdzLpOGn",
        "outputId": "32b8b506-2361-4b46-fc34-c4384ba89eb1"
      },
      "execution_count": 26,
      "outputs": [
        {
          "output_type": "display_data",
          "data": {
            "text/plain": [
              "\u001b[1mModel: \"sequential\"\u001b[0m\n"
            ],
            "text/html": [
              "<pre style=\"white-space:pre;overflow-x:auto;line-height:normal;font-family:Menlo,'DejaVu Sans Mono',consolas,'Courier New',monospace\"><span style=\"font-weight: bold\">Model: \"sequential\"</span>\n",
              "</pre>\n"
            ]
          },
          "metadata": {}
        },
        {
          "output_type": "display_data",
          "data": {
            "text/plain": [
              "┏━━━━━━━━━━━━━━━━━━━━━━━━━━━━━━━━━┳━━━━━━━━━━━━━━━━━━━━━━━━┳━━━━━━━━━━━━━━━┓\n",
              "┃\u001b[1m \u001b[0m\u001b[1mLayer (type)                   \u001b[0m\u001b[1m \u001b[0m┃\u001b[1m \u001b[0m\u001b[1mOutput Shape          \u001b[0m\u001b[1m \u001b[0m┃\u001b[1m \u001b[0m\u001b[1m      Param #\u001b[0m\u001b[1m \u001b[0m┃\n",
              "┡━━━━━━━━━━━━━━━━━━━━━━━━━━━━━━━━━╇━━━━━━━━━━━━━━━━━━━━━━━━╇━━━━━━━━━━━━━━━┩\n",
              "│ MobileNetV3Small (\u001b[38;5;33mFunctional\u001b[0m)   │ (\u001b[38;5;45mNone\u001b[0m, \u001b[38;5;34m1\u001b[0m, \u001b[38;5;34m1\u001b[0m, \u001b[38;5;34m576\u001b[0m)      │       \u001b[38;5;34m939,120\u001b[0m │\n",
              "├─────────────────────────────────┼────────────────────────┼───────────────┤\n",
              "│ global_average_pooling2d        │ (\u001b[38;5;45mNone\u001b[0m, \u001b[38;5;34m576\u001b[0m)            │             \u001b[38;5;34m0\u001b[0m │\n",
              "│ (\u001b[38;5;33mGlobalAveragePooling2D\u001b[0m)        │                        │               │\n",
              "├─────────────────────────────────┼────────────────────────┼───────────────┤\n",
              "│ dense (\u001b[38;5;33mDense\u001b[0m)                   │ (\u001b[38;5;45mNone\u001b[0m, \u001b[38;5;34m85\u001b[0m)             │        \u001b[38;5;34m49,045\u001b[0m │\n",
              "└─────────────────────────────────┴────────────────────────┴───────────────┘\n"
            ],
            "text/html": [
              "<pre style=\"white-space:pre;overflow-x:auto;line-height:normal;font-family:Menlo,'DejaVu Sans Mono',consolas,'Courier New',monospace\">┏━━━━━━━━━━━━━━━━━━━━━━━━━━━━━━━━━┳━━━━━━━━━━━━━━━━━━━━━━━━┳━━━━━━━━━━━━━━━┓\n",
              "┃<span style=\"font-weight: bold\"> Layer (type)                    </span>┃<span style=\"font-weight: bold\"> Output Shape           </span>┃<span style=\"font-weight: bold\">       Param # </span>┃\n",
              "┡━━━━━━━━━━━━━━━━━━━━━━━━━━━━━━━━━╇━━━━━━━━━━━━━━━━━━━━━━━━╇━━━━━━━━━━━━━━━┩\n",
              "│ MobileNetV3Small (<span style=\"color: #0087ff; text-decoration-color: #0087ff\">Functional</span>)   │ (<span style=\"color: #00d7ff; text-decoration-color: #00d7ff\">None</span>, <span style=\"color: #00af00; text-decoration-color: #00af00\">1</span>, <span style=\"color: #00af00; text-decoration-color: #00af00\">1</span>, <span style=\"color: #00af00; text-decoration-color: #00af00\">576</span>)      │       <span style=\"color: #00af00; text-decoration-color: #00af00\">939,120</span> │\n",
              "├─────────────────────────────────┼────────────────────────┼───────────────┤\n",
              "│ global_average_pooling2d        │ (<span style=\"color: #00d7ff; text-decoration-color: #00d7ff\">None</span>, <span style=\"color: #00af00; text-decoration-color: #00af00\">576</span>)            │             <span style=\"color: #00af00; text-decoration-color: #00af00\">0</span> │\n",
              "│ (<span style=\"color: #0087ff; text-decoration-color: #0087ff\">GlobalAveragePooling2D</span>)        │                        │               │\n",
              "├─────────────────────────────────┼────────────────────────┼───────────────┤\n",
              "│ dense (<span style=\"color: #0087ff; text-decoration-color: #0087ff\">Dense</span>)                   │ (<span style=\"color: #00d7ff; text-decoration-color: #00d7ff\">None</span>, <span style=\"color: #00af00; text-decoration-color: #00af00\">85</span>)             │        <span style=\"color: #00af00; text-decoration-color: #00af00\">49,045</span> │\n",
              "└─────────────────────────────────┴────────────────────────┴───────────────┘\n",
              "</pre>\n"
            ]
          },
          "metadata": {}
        },
        {
          "output_type": "display_data",
          "data": {
            "text/plain": [
              "\u001b[1m Total params: \u001b[0m\u001b[38;5;34m988,165\u001b[0m (3.77 MB)\n"
            ],
            "text/html": [
              "<pre style=\"white-space:pre;overflow-x:auto;line-height:normal;font-family:Menlo,'DejaVu Sans Mono',consolas,'Courier New',monospace\"><span style=\"font-weight: bold\"> Total params: </span><span style=\"color: #00af00; text-decoration-color: #00af00\">988,165</span> (3.77 MB)\n",
              "</pre>\n"
            ]
          },
          "metadata": {}
        },
        {
          "output_type": "display_data",
          "data": {
            "text/plain": [
              "\u001b[1m Trainable params: \u001b[0m\u001b[38;5;34m105,493\u001b[0m (412.08 KB)\n"
            ],
            "text/html": [
              "<pre style=\"white-space:pre;overflow-x:auto;line-height:normal;font-family:Menlo,'DejaVu Sans Mono',consolas,'Courier New',monospace\"><span style=\"font-weight: bold\"> Trainable params: </span><span style=\"color: #00af00; text-decoration-color: #00af00\">105,493</span> (412.08 KB)\n",
              "</pre>\n"
            ]
          },
          "metadata": {}
        },
        {
          "output_type": "display_data",
          "data": {
            "text/plain": [
              "\u001b[1m Non-trainable params: \u001b[0m\u001b[38;5;34m882,672\u001b[0m (3.37 MB)\n"
            ],
            "text/html": [
              "<pre style=\"white-space:pre;overflow-x:auto;line-height:normal;font-family:Menlo,'DejaVu Sans Mono',consolas,'Courier New',monospace\"><span style=\"font-weight: bold\"> Non-trainable params: </span><span style=\"color: #00af00; text-decoration-color: #00af00\">882,672</span> (3.37 MB)\n",
              "</pre>\n"
            ]
          },
          "metadata": {}
        }
      ]
    },
    {
      "cell_type": "markdown",
      "source": [
        "### Training the model"
      ],
      "metadata": {
        "id": "nspyI9iqpPQz"
      }
    },
    {
      "cell_type": "code",
      "source": [
        "model.compile(\n",
        "    optimizer=tf.keras.optimizers.Adam(learning_rate=0.001),\n",
        "    loss='categorical_crossentropy',\n",
        "    metrics=['accuracy']\n",
        ")"
      ],
      "metadata": {
        "id": "Un6KrdrKQmcb"
      },
      "execution_count": 27,
      "outputs": []
    },
    {
      "cell_type": "code",
      "source": [
        "epochs = 10\n",
        "\n",
        "callbacks = [\n",
        "    tf.keras.callbacks.ModelCheckpoint(\n",
        "        filepath='malayalam_mobilenetv3.keras',\n",
        "        save_best_only=True,\n",
        "        monitor='val_accuracy'\n",
        "    ),\n",
        "    tf.keras.callbacks.EarlyStopping(\n",
        "    monitor='val_accuracy',\n",
        "    patience=5,\n",
        "    mode='max',\n",
        "    restore_best_weights=True\n",
        "    )\n",
        "]"
      ],
      "metadata": {
        "id": "n9UowVEDpogX"
      },
      "execution_count": 28,
      "outputs": []
    },
    {
      "cell_type": "code",
      "source": [
        "history = model.fit(x_aug, y_aug,\n",
        "                    epochs=epochs,\n",
        "                    validation_data=(validate_images, validate_labels),\n",
        "                    callbacks=callbacks,\n",
        ")"
      ],
      "metadata": {
        "colab": {
          "base_uri": "https://localhost:8080/"
        },
        "id": "pn7WSBIDQnyJ",
        "outputId": "492920ed-9341-4284-edfb-f19481aa82cc"
      },
      "execution_count": 31,
      "outputs": [
        {
          "output_type": "stream",
          "name": "stdout",
          "text": [
            "Epoch 1/10\n",
            "\u001b[1m794/794\u001b[0m \u001b[32m━━━━━━━━━━━━━━━━━━━━\u001b[0m\u001b[37m\u001b[0m \u001b[1m26s\u001b[0m 24ms/step - accuracy: 0.1777 - loss: 3.8971 - val_accuracy: 0.0252 - val_loss: 4.5102\n",
            "Epoch 2/10\n",
            "\u001b[1m794/794\u001b[0m \u001b[32m━━━━━━━━━━━━━━━━━━━━\u001b[0m\u001b[37m\u001b[0m \u001b[1m17s\u001b[0m 20ms/step - accuracy: 0.3699 - loss: 2.6185 - val_accuracy: 0.0186 - val_loss: 4.4718\n",
            "Epoch 3/10\n",
            "\u001b[1m794/794\u001b[0m \u001b[32m━━━━━━━━━━━━━━━━━━━━\u001b[0m\u001b[37m\u001b[0m \u001b[1m15s\u001b[0m 19ms/step - accuracy: 0.4213 - loss: 2.3643 - val_accuracy: 0.0223 - val_loss: 4.4667\n",
            "Epoch 4/10\n",
            "\u001b[1m794/794\u001b[0m \u001b[32m━━━━━━━━━━━━━━━━━━━━\u001b[0m\u001b[37m\u001b[0m \u001b[1m19s\u001b[0m 17ms/step - accuracy: 0.4645 - loss: 2.1912 - val_accuracy: 0.0133 - val_loss: 4.4653\n",
            "Epoch 5/10\n",
            "\u001b[1m794/794\u001b[0m \u001b[32m━━━━━━━━━━━━━━━━━━━━\u001b[0m\u001b[37m\u001b[0m \u001b[1m18s\u001b[0m 23ms/step - accuracy: 0.4739 - loss: 2.1178 - val_accuracy: 0.0319 - val_loss: 4.3359\n",
            "Epoch 6/10\n",
            "\u001b[1m794/794\u001b[0m \u001b[32m━━━━━━━━━━━━━━━━━━━━\u001b[0m\u001b[37m\u001b[0m \u001b[1m20s\u001b[0m 22ms/step - accuracy: 0.4892 - loss: 2.0765 - val_accuracy: 0.0613 - val_loss: 4.3063\n",
            "Epoch 7/10\n",
            "\u001b[1m794/794\u001b[0m \u001b[32m━━━━━━━━━━━━━━━━━━━━\u001b[0m\u001b[37m\u001b[0m \u001b[1m15s\u001b[0m 19ms/step - accuracy: 0.4932 - loss: 2.0432 - val_accuracy: 0.1018 - val_loss: 4.4049\n",
            "Epoch 8/10\n",
            "\u001b[1m794/794\u001b[0m \u001b[32m━━━━━━━━━━━━━━━━━━━━\u001b[0m\u001b[37m\u001b[0m \u001b[1m22s\u001b[0m 21ms/step - accuracy: 0.5007 - loss: 2.0116 - val_accuracy: 0.1097 - val_loss: 6.7120\n",
            "Epoch 9/10\n",
            "\u001b[1m794/794\u001b[0m \u001b[32m━━━━━━━━━━━━━━━━━━━━\u001b[0m\u001b[37m\u001b[0m \u001b[1m18s\u001b[0m 18ms/step - accuracy: 0.5136 - loss: 1.9741 - val_accuracy: 0.0966 - val_loss: 12.7924\n",
            "Epoch 10/10\n",
            "\u001b[1m794/794\u001b[0m \u001b[32m━━━━━━━━━━━━━━━━━━━━\u001b[0m\u001b[37m\u001b[0m \u001b[1m21s\u001b[0m 18ms/step - accuracy: 0.5184 - loss: 1.9611 - val_accuracy: 0.1136 - val_loss: 10.8229\n"
          ]
        }
      ]
    },
    {
      "cell_type": "code",
      "source": [
        "model.evaluate(test_images, test_labels)"
      ],
      "metadata": {
        "id": "d8ShLsrfYqtA",
        "colab": {
          "base_uri": "https://localhost:8080/"
        },
        "outputId": "62dafedd-71e6-4e08-dba8-d358f75baf93"
      },
      "execution_count": 32,
      "outputs": [
        {
          "output_type": "stream",
          "name": "stdout",
          "text": [
            "\u001b[1m199/199\u001b[0m \u001b[32m━━━━━━━━━━━━━━━━━━━━\u001b[0m\u001b[37m\u001b[0m \u001b[1m2s\u001b[0m 12ms/step - accuracy: 0.1531 - loss: 9.4903\n"
          ]
        },
        {
          "output_type": "execute_result",
          "data": {
            "text/plain": [
              "[10.9629545211792, 0.10253184288740158]"
            ]
          },
          "metadata": {},
          "execution_count": 32
        }
      ]
    },
    {
      "cell_type": "code",
      "source": [
        "model.compile(\n",
        "    optimizer=tf.keras.optimizers.Adam(learning_rate=0.0001),\n",
        "    loss='categorical_crossentropy',\n",
        "    metrics=['accuracy']\n",
        ")"
      ],
      "metadata": {
        "id": "iMyaPmz2qMj-"
      },
      "execution_count": 33,
      "outputs": []
    },
    {
      "cell_type": "code",
      "source": [
        "fine_history = model.fit(\n",
        "    x_aug, y_aug,\n",
        "    epochs=20,\n",
        "    validation_data=(validate_images, validate_labels),\n",
        "    initial_epoch=history.epoch[-1],\n",
        "    callbacks=callbacks\n",
        ")"
      ],
      "metadata": {
        "id": "f02C7-bGqO3C",
        "colab": {
          "base_uri": "https://localhost:8080/"
        },
        "outputId": "3630a465-64cb-49a1-bb4c-e3328cbb4cb2"
      },
      "execution_count": 34,
      "outputs": [
        {
          "output_type": "stream",
          "name": "stdout",
          "text": [
            "Epoch 10/20\n",
            "\u001b[1m794/794\u001b[0m \u001b[32m━━━━━━━━━━━━━━━━━━━━\u001b[0m\u001b[37m\u001b[0m \u001b[1m24s\u001b[0m 22ms/step - accuracy: 0.5496 - loss: 1.8351 - val_accuracy: 0.2617 - val_loss: 5.2037\n",
            "Epoch 11/20\n",
            "\u001b[1m794/794\u001b[0m \u001b[32m━━━━━━━━━━━━━━━━━━━━\u001b[0m\u001b[37m\u001b[0m \u001b[1m20s\u001b[0m 22ms/step - accuracy: 0.5726 - loss: 1.7631 - val_accuracy: 0.5630 - val_loss: 1.7584\n",
            "Epoch 12/20\n",
            "\u001b[1m794/794\u001b[0m \u001b[32m━━━━━━━━━━━━━━━━━━━━\u001b[0m\u001b[37m\u001b[0m \u001b[1m15s\u001b[0m 18ms/step - accuracy: 0.5804 - loss: 1.7365 - val_accuracy: 0.6156 - val_loss: 1.4299\n",
            "Epoch 13/20\n",
            "\u001b[1m794/794\u001b[0m \u001b[32m━━━━━━━━━━━━━━━━━━━━\u001b[0m\u001b[37m\u001b[0m \u001b[1m23s\u001b[0m 21ms/step - accuracy: 0.5820 - loss: 1.7282 - val_accuracy: 0.6521 - val_loss: 1.1901\n",
            "Epoch 14/20\n",
            "\u001b[1m794/794\u001b[0m \u001b[32m━━━━━━━━━━━━━━━━━━━━\u001b[0m\u001b[37m\u001b[0m \u001b[1m17s\u001b[0m 17ms/step - accuracy: 0.5871 - loss: 1.7107 - val_accuracy: 0.6037 - val_loss: 1.5300\n",
            "Epoch 15/20\n",
            "\u001b[1m794/794\u001b[0m \u001b[32m━━━━━━━━━━━━━━━━━━━━\u001b[0m\u001b[37m\u001b[0m \u001b[1m15s\u001b[0m 19ms/step - accuracy: 0.5848 - loss: 1.7191 - val_accuracy: 0.6882 - val_loss: 1.1210\n",
            "Epoch 16/20\n",
            "\u001b[1m794/794\u001b[0m \u001b[32m━━━━━━━━━━━━━━━━━━━━\u001b[0m\u001b[37m\u001b[0m \u001b[1m14s\u001b[0m 18ms/step - accuracy: 0.5947 - loss: 1.6910 - val_accuracy: 0.6680 - val_loss: 1.2095\n",
            "Epoch 17/20\n",
            "\u001b[1m794/794\u001b[0m \u001b[32m━━━━━━━━━━━━━━━━━━━━\u001b[0m\u001b[37m\u001b[0m \u001b[1m16s\u001b[0m 21ms/step - accuracy: 0.5932 - loss: 1.7061 - val_accuracy: 0.6521 - val_loss: 1.2899\n",
            "Epoch 18/20\n",
            "\u001b[1m794/794\u001b[0m \u001b[32m━━━━━━━━━━━━━━━━━━━━\u001b[0m\u001b[37m\u001b[0m \u001b[1m15s\u001b[0m 19ms/step - accuracy: 0.5922 - loss: 1.7038 - val_accuracy: 0.6798 - val_loss: 1.1371\n",
            "Epoch 19/20\n",
            "\u001b[1m794/794\u001b[0m \u001b[32m━━━━━━━━━━━━━━━━━━━━\u001b[0m\u001b[37m\u001b[0m \u001b[1m19s\u001b[0m 18ms/step - accuracy: 0.5929 - loss: 1.7013 - val_accuracy: 0.6661 - val_loss: 1.2468\n",
            "Epoch 20/20\n",
            "\u001b[1m794/794\u001b[0m \u001b[32m━━━━━━━━━━━━━━━━━━━━\u001b[0m\u001b[37m\u001b[0m \u001b[1m21s\u001b[0m 19ms/step - accuracy: 0.6018 - loss: 1.6705 - val_accuracy: 0.6880 - val_loss: 1.0880\n"
          ]
        }
      ]
    },
    {
      "cell_type": "code",
      "source": [
        "model.evaluate(test_images, test_labels)"
      ],
      "metadata": {
        "id": "uinztaz0qQ4S",
        "colab": {
          "base_uri": "https://localhost:8080/"
        },
        "outputId": "2e214e4a-59b1-48a8-9b34-52bd92d49561"
      },
      "execution_count": 35,
      "outputs": [
        {
          "output_type": "stream",
          "name": "stdout",
          "text": [
            "\u001b[1m199/199\u001b[0m \u001b[32m━━━━━━━━━━━━━━━━━━━━\u001b[0m\u001b[37m\u001b[0m \u001b[1m3s\u001b[0m 16ms/step - accuracy: 0.6182 - loss: 1.6732\n"
          ]
        },
        {
          "output_type": "execute_result",
          "data": {
            "text/plain": [
              "[1.8459993600845337, 0.5711590051651001]"
            ]
          },
          "metadata": {},
          "execution_count": 35
        }
      ]
    },
    {
      "cell_type": "code",
      "source": [
        "# Plot training history\n",
        "plt.plot(fine_history.history['accuracy'], label='Train Accuracy')\n",
        "plt.plot(fine_history.history['val_accuracy'], label='Validation Accuracy')\n",
        "plt.xlabel('Epochs')\n",
        "plt.ylabel('Accuracy')\n",
        "plt.legend()\n",
        "plt.title('Training and Validation Accuracy')\n",
        "plt.show()"
      ],
      "metadata": {
        "id": "mCmppQ2kxvBK",
        "colab": {
          "base_uri": "https://localhost:8080/",
          "height": 472
        },
        "outputId": "35e2ab0b-1d58-40db-f291-610b22d32df7"
      },
      "execution_count": 36,
      "outputs": [
        {
          "output_type": "display_data",
          "data": {
            "text/plain": [
              "<Figure size 640x480 with 1 Axes>"
            ],
            "image/png": "[encoded data removed]"
          },
          "metadata": {}
        }
      ]
    },
    {
      "cell_type": "code",
      "source": [
        "#model.save('malayalam_mobilenetv3.keras')"
      ],
      "metadata": {
        "id": "PPfFHCi_qTb_"
      },
      "execution_count": 37,
      "outputs": []
    }
  ]
}