{
  "nbformat": 4,
  "nbformat_minor": 0,
  "metadata": {
    "colab": {
      "provenance": [],
      "gpuType": "T4"
    },
    "kernelspec": {
      "name": "python3",
      "display_name": "Python 3"
    },
    "language_info": {
      "name": "python"
    },
    "accelerator": "GPU"
  },
  "cells": [
    {
      "cell_type": "code",
      "execution_count": null,
      "metadata": {
        "id": "BNHSZOvuI0g2"
      },
      "outputs": [],
      "source": [
        "import tensorflow as tf\n",
        "from tensorflow.keras.layers import Dense, GlobalAveragePooling2D\n",
        "from tensorflow.keras.utils import to_categorical\n",
        "from tensorflow.keras import layers, Sequential\n",
        "from tensorflow.keras.preprocessing.image import ImageDataGenerator\n",
        "from tensorflow.keras.losses import BinaryCrossentropy\n",
        "from tensorflow.keras.metrics import Accuracy\n",
        "\n",
        "import matplotlib.pyplot as plt\n",
        "import numpy as np\n",
        "import pandas as pd"
      ]
    },
    {
      "cell_type": "code",
      "source": [
        "import os\n",
        "\n",
        "if not os.path.exists(\"Handwritten_V2_train.csv\"):\n",
        "  !gdown 'https://drive.google.com/uc?export=download&id=1phWikkOYex57DGxgNv3PgkF0pQ9Nsm1a'\n",
        "if not os.path.exists(\"Handwritten_V2_valid.csv\"):\n",
        "  !gdown 'https://drive.google.com/uc?export=download&id=1ykhOpo8ZjgDfbQ2CdR-zN-X_T8WEtL00'\n",
        "if not os.path.exists(\"Handwritten_V2_test.csv\"):\n",
        "  !gdown 'https://drive.google.com/uc?export=download&id=1hzhmO5ZK_aVHUfGeWf3s4bHQPyl5EzUJ'"
      ],
      "metadata": {
        "id": "XizCNBjRI7Mu"
      },
      "execution_count": null,
      "outputs": []
    },
    {
      "cell_type": "code",
      "source": [
        "train = pd.read_csv(\"Handwritten_V2_train.csv\")\n",
        "test = pd.read_csv(\"Handwritten_V2_test.csv\")\n",
        "validate = pd.read_csv(\"Handwritten_V2_valid.csv\")"
      ],
      "metadata": {
        "id": "GCbOrK4zKALD"
      },
      "execution_count": null,
      "outputs": []
    },
    {
      "cell_type": "code",
      "source": [
        "train_images = train.iloc[:, 1:].values\n",
        "test_images = test.iloc[:, 1:].values\n",
        "train_labels = train.iloc[:, 0].values\n",
        "test_labels = test.iloc[:, 0].values\n",
        "validate_labels = validate.iloc[:, 0].values\n",
        "validate_images = validate.iloc[:, 1:].values\n",
        "\n",
        "num_classes = 85\n",
        "\n",
        "train_images = np.concatenate([train_images.reshape(-1, 32, 32, 1)] * 3, axis=-1)\n",
        "test_images = np.concatenate([test_images.reshape(-1, 32, 32, 1)] * 3, axis=-1)\n",
        "validate_images = np.concatenate([validate_images.reshape(-1, 32, 32, 1)] * 3, axis=-1)\n",
        "\n",
        "\n",
        "train_images = tf.image.rot90(train_images, k=3)\n",
        "test_images = tf.image.rot90(test_images, k=3)\n",
        "validate_images = tf.image.rot90(validate_images, k=3)\n",
        "\n",
        "# Mirror images\n",
        "train_images = tf.image.flip_left_right(train_images)\n",
        "test_images = tf.image.flip_left_right(test_images)\n",
        "validate_images = tf.image.flip_left_right(validate_images)\n",
        "\n",
        "\n",
        "datagen = ImageDataGenerator(\n",
        "    rotation_range=10,\n",
        "    width_shift_range=0.05,\n",
        "    height_shift_range=0.05,\n",
        "    zoom_range=0.05,\n",
        "    horizontal_flip=False,\n",
        "    vertical_flip=False,\n",
        "    fill_mode='nearest'\n",
        ")\n",
        "\n",
        "target_per_class = 250\n",
        "augmented_images = []\n",
        "augmented_labels = []\n",
        "\n",
        "for class_idx in range(1, num_classes+1):\n",
        "    Xc = train_images[train_labels == class_idx]\n",
        "    print(f\"Class {class_idx}: found {Xc.shape[0]} images\")\n",
        "    if Xc.shape[0] == 0:\n",
        "      continue\n",
        "    count = Xc.shape[0]\n",
        "    # Determine how many new images are needed for this class\n",
        "    need = target_per_class - count\n",
        "    if need <= 0:\n",
        "        continue\n",
        "    # Use flow to generate `need` augmented images for this class\n",
        "    gen = datagen.flow(Xc, batch_size=1, shuffle=True)\n",
        "    for _ in range(need):\n",
        "        batch = next(gen)\n",
        "        img = batch[0]\n",
        "        augmented_images.append(img)\n",
        "        augmented_labels.append(class_idx)\n",
        "\n",
        "# Combine original and augmented data\n",
        "x_aug = np.concatenate([train_images, np.array(augmented_images)], axis=0)\n",
        "y_aug = np.concatenate([train_labels, np.array(augmented_labels)], axis=0)\n",
        "print(f\"Augmented data shape: {x_aug.shape}, labels shape: {y_aug.shape}\")"
      ],
      "metadata": {
        "colab": {
          "base_uri": "https://localhost:8080/"
        },
        "id": "Y5ISuSO6JDHi",
        "outputId": "fa4e8522-30c7-41ed-f052-d56bf956b0c7"
      },
      "execution_count": null,
      "outputs": [
        {
          "output_type": "stream",
          "name": "stdout",
          "text": [
            "Class 1: found 179 images\n",
            "Class 2: found 316 images\n",
            "Class 3: found 192 images\n",
            "Class 4: found 190 images\n",
            "Class 5: found 180 images\n",
            "Class 6: found 183 images\n",
            "Class 7: found 175 images\n",
            "Class 8: found 194 images\n",
            "Class 9: found 204 images\n",
            "Class 10: found 230 images\n",
            "Class 11: found 171 images\n",
            "Class 12: found 228 images\n",
            "Class 13: found 191 images\n",
            "Class 14: found 225 images\n",
            "Class 15: found 234 images\n",
            "Class 16: found 197 images\n",
            "Class 17: found 220 images\n",
            "Class 18: found 198 images\n",
            "Class 19: found 250 images\n",
            "Class 20: found 211 images\n",
            "Class 21: found 202 images\n",
            "Class 22: found 210 images\n",
            "Class 23: found 201 images\n",
            "Class 24: found 186 images\n",
            "Class 25: found 198 images\n",
            "Class 26: found 191 images\n",
            "Class 27: found 205 images\n",
            "Class 28: found 180 images\n",
            "Class 29: found 200 images\n",
            "Class 30: found 209 images\n",
            "Class 31: found 190 images\n",
            "Class 32: found 185 images\n",
            "Class 33: found 197 images\n",
            "Class 34: found 213 images\n",
            "Class 35: found 213 images\n",
            "Class 36: found 215 images\n",
            "Class 37: found 207 images\n",
            "Class 38: found 197 images\n",
            "Class 39: found 198 images\n",
            "Class 40: found 177 images\n",
            "Class 41: found 209 images\n",
            "Class 42: found 205 images\n",
            "Class 43: found 198 images\n",
            "Class 44: found 217 images\n",
            "Class 45: found 206 images\n",
            "Class 46: found 201 images\n",
            "Class 47: found 180 images\n",
            "Class 48: found 210 images\n",
            "Class 49: found 204 images\n",
            "Class 50: found 197 images\n",
            "Class 51: found 206 images\n",
            "Class 52: found 200 images\n",
            "Class 53: found 205 images\n",
            "Class 54: found 192 images\n",
            "Class 55: found 209 images\n",
            "Class 56: found 214 images\n",
            "Class 57: found 219 images\n",
            "Class 58: found 217 images\n",
            "Class 59: found 221 images\n",
            "Class 60: found 223 images\n",
            "Class 61: found 212 images\n",
            "Class 62: found 201 images\n",
            "Class 63: found 213 images\n",
            "Class 64: found 216 images\n",
            "Class 65: found 208 images\n",
            "Class 66: found 216 images\n",
            "Class 67: found 207 images\n",
            "Class 68: found 217 images\n",
            "Class 69: found 204 images\n",
            "Class 70: found 138 images\n",
            "Class 71: found 210 images\n",
            "Class 72: found 207 images\n",
            "Class 73: found 186 images\n",
            "Class 74: found 218 images\n",
            "Class 75: found 202 images\n",
            "Class 76: found 189 images\n",
            "Class 77: found 213 images\n",
            "Class 78: found 216 images\n",
            "Class 79: found 196 images\n",
            "Class 80: found 173 images\n",
            "Class 81: found 180 images\n",
            "Class 82: found 195 images\n",
            "Class 83: found 166 images\n",
            "Class 84: found 177 images\n",
            "Class 85: found 200 images\n",
            "Augmented data shape: (21316, 32, 32, 3), labels shape: (21316,)\n"
          ]
        }
      ]
    },
    {
      "cell_type": "code",
      "source": [
        "y_aug_new = np.array(y_aug) - 1\n",
        "test_labels_new = np.array(test_labels) - 1\n",
        "validate_labels_new = np.array(validate_labels) - 1\n",
        "\n",
        "y_aug_encoded = to_categorical(y_aug_new, num_classes=num_classes)\n",
        "test_labels_encoded = to_categorical(test_labels_new, num_classes=num_classes)\n",
        "validate_labels_encoded = to_categorical(validate_labels_new, num_classes=num_classes)"
      ],
      "metadata": {
        "id": "JdgVad-UJD64"
      },
      "execution_count": null,
      "outputs": []
    },
    {
      "cell_type": "code",
      "source": [
        "x_aug = tf.image.resize(x_aug, [71, 71])\n",
        "validate_images = tf.image.resize(validate_images, [71, 71])\n",
        "test_images = tf.image.resize(test_images, [71, 71])"
      ],
      "metadata": {
        "id": "E3vGVpTSLgxb"
      },
      "execution_count": null,
      "outputs": []
    },
    {
      "cell_type": "code",
      "source": [
        "from tensorflow.keras.applications import Xception\n",
        "\n",
        "base_model = Xception(\n",
        "    weights='imagenet',\n",
        "    include_top=False,\n",
        "    input_shape=(71, 71, 3)\n",
        ")"
      ],
      "metadata": {
        "id": "H-6ziX-cJI5r"
      },
      "execution_count": null,
      "outputs": []
    },
    {
      "cell_type": "code",
      "source": [
        "base_model.trainable = False\n",
        "for layer in base_model.layers[-3:]:\n",
        "    layer.trainable = True"
      ],
      "metadata": {
        "id": "uY6S2kBCJK7q"
      },
      "execution_count": null,
      "outputs": []
    },
    {
      "cell_type": "code",
      "source": [
        "model = Sequential([\n",
        "    base_model,\n",
        "    GlobalAveragePooling2D(),\n",
        "    Dense(85, activation='softmax')\n",
        "    ])"
      ],
      "metadata": {
        "id": "J_dXC5CwJN0Z"
      },
      "execution_count": null,
      "outputs": []
    },
    {
      "cell_type": "code",
      "source": [
        "model.summary()"
      ],
      "metadata": {
        "colab": {
          "base_uri": "https://localhost:8080/",
          "height": 287
        },
        "id": "zbB5ml9BJPiS",
        "outputId": "86a65b71-117e-48eb-e2df-b5cfa5e171a1"
      },
      "execution_count": null,
      "outputs": [
        {
          "output_type": "display_data",
          "data": {
            "text/plain": [
              "\u001b[1mModel: \"sequential_1\"\u001b[0m\n"
            ],
            "text/html": [
              "<pre style=\"white-space:pre;overflow-x:auto;line-height:normal;font-family:Menlo,'DejaVu Sans Mono',consolas,'Courier New',monospace\"><span style=\"font-weight: bold\">Model: \"sequential_1\"</span>\n",
              "</pre>\n"
            ]
          },
          "metadata": {}
        },
        {
          "output_type": "display_data",
          "data": {
            "text/plain": [
              "┏━━━━━━━━━━━━━━━━━━━━━━━━━━━━━━━━━┳━━━━━━━━━━━━━━━━━━━━━━━━┳━━━━━━━━━━━━━━━┓\n",
              "┃\u001b[1m \u001b[0m\u001b[1mLayer (type)                   \u001b[0m\u001b[1m \u001b[0m┃\u001b[1m \u001b[0m\u001b[1mOutput Shape          \u001b[0m\u001b[1m \u001b[0m┃\u001b[1m \u001b[0m\u001b[1m      Param #\u001b[0m\u001b[1m \u001b[0m┃\n",
              "┡━━━━━━━━━━━━━━━━━━━━━━━━━━━━━━━━━╇━━━━━━━━━━━━━━━━━━━━━━━━╇━━━━━━━━━━━━━━━┩\n",
              "│ xception (\u001b[38;5;33mFunctional\u001b[0m)           │ (\u001b[38;5;45mNone\u001b[0m, \u001b[38;5;34m3\u001b[0m, \u001b[38;5;34m3\u001b[0m, \u001b[38;5;34m2048\u001b[0m)     │    \u001b[38;5;34m20,861,480\u001b[0m │\n",
              "├─────────────────────────────────┼────────────────────────┼───────────────┤\n",
              "│ global_average_pooling2d_1      │ (\u001b[38;5;45mNone\u001b[0m, \u001b[38;5;34m2048\u001b[0m)           │             \u001b[38;5;34m0\u001b[0m │\n",
              "│ (\u001b[38;5;33mGlobalAveragePooling2D\u001b[0m)        │                        │               │\n",
              "├─────────────────────────────────┼────────────────────────┼───────────────┤\n",
              "│ dense_1 (\u001b[38;5;33mDense\u001b[0m)                 │ (\u001b[38;5;45mNone\u001b[0m, \u001b[38;5;34m85\u001b[0m)             │       \u001b[38;5;34m174,165\u001b[0m │\n",
              "└─────────────────────────────────┴────────────────────────┴───────────────┘\n"
            ],
            "text/html": [
              "<pre style=\"white-space:pre;overflow-x:auto;line-height:normal;font-family:Menlo,'DejaVu Sans Mono',consolas,'Courier New',monospace\">┏━━━━━━━━━━━━━━━━━━━━━━━━━━━━━━━━━┳━━━━━━━━━━━━━━━━━━━━━━━━┳━━━━━━━━━━━━━━━┓\n",
              "┃<span style=\"font-weight: bold\"> Layer (type)                    </span>┃<span style=\"font-weight: bold\"> Output Shape           </span>┃<span style=\"font-weight: bold\">       Param # </span>┃\n",
              "┡━━━━━━━━━━━━━━━━━━━━━━━━━━━━━━━━━╇━━━━━━━━━━━━━━━━━━━━━━━━╇━━━━━━━━━━━━━━━┩\n",
              "│ xception (<span style=\"color: #0087ff; text-decoration-color: #0087ff\">Functional</span>)           │ (<span style=\"color: #00d7ff; text-decoration-color: #00d7ff\">None</span>, <span style=\"color: #00af00; text-decoration-color: #00af00\">3</span>, <span style=\"color: #00af00; text-decoration-color: #00af00\">3</span>, <span style=\"color: #00af00; text-decoration-color: #00af00\">2048</span>)     │    <span style=\"color: #00af00; text-decoration-color: #00af00\">20,861,480</span> │\n",
              "├─────────────────────────────────┼────────────────────────┼───────────────┤\n",
              "│ global_average_pooling2d_1      │ (<span style=\"color: #00d7ff; text-decoration-color: #00d7ff\">None</span>, <span style=\"color: #00af00; text-decoration-color: #00af00\">2048</span>)           │             <span style=\"color: #00af00; text-decoration-color: #00af00\">0</span> │\n",
              "│ (<span style=\"color: #0087ff; text-decoration-color: #0087ff\">GlobalAveragePooling2D</span>)        │                        │               │\n",
              "├─────────────────────────────────┼────────────────────────┼───────────────┤\n",
              "│ dense_1 (<span style=\"color: #0087ff; text-decoration-color: #0087ff\">Dense</span>)                 │ (<span style=\"color: #00d7ff; text-decoration-color: #00d7ff\">None</span>, <span style=\"color: #00af00; text-decoration-color: #00af00\">85</span>)             │       <span style=\"color: #00af00; text-decoration-color: #00af00\">174,165</span> │\n",
              "└─────────────────────────────────┴────────────────────────┴───────────────┘\n",
              "</pre>\n"
            ]
          },
          "metadata": {}
        },
        {
          "output_type": "display_data",
          "data": {
            "text/plain": [
              "\u001b[1m Total params: \u001b[0m\u001b[38;5;34m21,035,645\u001b[0m (80.24 MB)\n"
            ],
            "text/html": [
              "<pre style=\"white-space:pre;overflow-x:auto;line-height:normal;font-family:Menlo,'DejaVu Sans Mono',consolas,'Courier New',monospace\"><span style=\"font-weight: bold\"> Total params: </span><span style=\"color: #00af00; text-decoration-color: #00af00\">21,035,645</span> (80.24 MB)\n",
              "</pre>\n"
            ]
          },
          "metadata": {}
        },
        {
          "output_type": "display_data",
          "data": {
            "text/plain": [
              "\u001b[1m Trainable params: \u001b[0m\u001b[38;5;34m3,337,813\u001b[0m (12.73 MB)\n"
            ],
            "text/html": [
              "<pre style=\"white-space:pre;overflow-x:auto;line-height:normal;font-family:Menlo,'DejaVu Sans Mono',consolas,'Courier New',monospace\"><span style=\"font-weight: bold\"> Trainable params: </span><span style=\"color: #00af00; text-decoration-color: #00af00\">3,337,813</span> (12.73 MB)\n",
              "</pre>\n"
            ]
          },
          "metadata": {}
        },
        {
          "output_type": "display_data",
          "data": {
            "text/plain": [
              "\u001b[1m Non-trainable params: \u001b[0m\u001b[38;5;34m17,697,832\u001b[0m (67.51 MB)\n"
            ],
            "text/html": [
              "<pre style=\"white-space:pre;overflow-x:auto;line-height:normal;font-family:Menlo,'DejaVu Sans Mono',consolas,'Courier New',monospace\"><span style=\"font-weight: bold\"> Non-trainable params: </span><span style=\"color: #00af00; text-decoration-color: #00af00\">17,697,832</span> (67.51 MB)\n",
              "</pre>\n"
            ]
          },
          "metadata": {}
        }
      ]
    },
    {
      "cell_type": "code",
      "source": [
        "model.compile(\n",
        "    optimizer=tf.keras.optimizers.Adam(learning_rate=0.001),\n",
        "    loss='categorical_crossentropy',\n",
        "    metrics=['accuracy']\n",
        ")"
      ],
      "metadata": {
        "id": "kXaPi_j2JSLG"
      },
      "execution_count": null,
      "outputs": []
    },
    {
      "cell_type": "code",
      "source": [
        "epochs = 10\n",
        "\n",
        "callbacks = [\n",
        "    tf.keras.callbacks.ModelCheckpoint(\n",
        "        filepath='malayalam_mobilenetv3.keras',\n",
        "        save_best_only=True,\n",
        "        monitor='val_accuracy'\n",
        "    ),\n",
        "    tf.keras.callbacks.EarlyStopping(\n",
        "    monitor='val_accuracy',\n",
        "    patience=10,\n",
        "    mode='max',\n",
        "    restore_best_weights=True\n",
        "    )\n",
        "]"
      ],
      "metadata": {
        "id": "VO_-SDNcJTA3"
      },
      "execution_count": null,
      "outputs": []
    },
    {
      "cell_type": "code",
      "source": [
        "history = model.fit(\n",
        "    x_aug, y_aug_encoded,\n",
        "    epochs=epochs,\n",
        "    validation_data=(validate_images, validate_labels_encoded),\n",
        "    callbacks=callbacks,\n",
        ")"
      ],
      "metadata": {
        "colab": {
          "base_uri": "https://localhost:8080/"
        },
        "id": "M9xf_nPFJVg5",
        "outputId": "6bcffeec-dbe1-43cc-acfe-2bbcc2215b3e"
      },
      "execution_count": null,
      "outputs": [
        {
          "output_type": "stream",
          "name": "stdout",
          "text": [
            "Epoch 1/10\n",
            "\u001b[1m667/667\u001b[0m \u001b[32m━━━━━━━━━━━━━━━━━━━━\u001b[0m\u001b[37m\u001b[0m \u001b[1m35s\u001b[0m 43ms/step - accuracy: 0.5052 - loss: 1.9649 - val_accuracy: 0.7940 - val_loss: 0.6352\n",
            "Epoch 2/10\n",
            "\u001b[1m667/667\u001b[0m \u001b[32m━━━━━━━━━━━━━━━━━━━━\u001b[0m\u001b[37m\u001b[0m \u001b[1m20s\u001b[0m 30ms/step - accuracy: 0.8572 - loss: 0.4561 - val_accuracy: 0.8189 - val_loss: 0.5784\n",
            "Epoch 3/10\n",
            "\u001b[1m667/667\u001b[0m \u001b[32m━━━━━━━━━━━━━━━━━━━━\u001b[0m\u001b[37m\u001b[0m \u001b[1m18s\u001b[0m 27ms/step - accuracy: 0.9229 - loss: 0.2515 - val_accuracy: 0.8387 - val_loss: 0.5196\n",
            "Epoch 4/10\n",
            "\u001b[1m667/667\u001b[0m \u001b[32m━━━━━━━━━━━━━━━━━━━━\u001b[0m\u001b[37m\u001b[0m \u001b[1m21s\u001b[0m 27ms/step - accuracy: 0.9449 - loss: 0.1722 - val_accuracy: 0.8533 - val_loss: 0.5026\n",
            "Epoch 5/10\n",
            "\u001b[1m667/667\u001b[0m \u001b[32m━━━━━━━━━━━━━━━━━━━━\u001b[0m\u001b[37m\u001b[0m \u001b[1m20s\u001b[0m 30ms/step - accuracy: 0.9611 - loss: 0.1271 - val_accuracy: 0.8671 - val_loss: 0.4800\n",
            "Epoch 6/10\n",
            "\u001b[1m667/667\u001b[0m \u001b[32m━━━━━━━━━━━━━━━━━━━━\u001b[0m\u001b[37m\u001b[0m \u001b[1m20s\u001b[0m 28ms/step - accuracy: 0.9647 - loss: 0.1156 - val_accuracy: 0.8645 - val_loss: 0.4843\n",
            "Epoch 7/10\n",
            "\u001b[1m667/667\u001b[0m \u001b[32m━━━━━━━━━━━━━━━━━━━━\u001b[0m\u001b[37m\u001b[0m \u001b[1m19s\u001b[0m 27ms/step - accuracy: 0.9700 - loss: 0.1036 - val_accuracy: 0.8687 - val_loss: 0.4948\n",
            "Epoch 8/10\n",
            "\u001b[1m667/667\u001b[0m \u001b[32m━━━━━━━━━━━━━━━━━━━━\u001b[0m\u001b[37m\u001b[0m \u001b[1m19s\u001b[0m 28ms/step - accuracy: 0.9740 - loss: 0.0899 - val_accuracy: 0.8552 - val_loss: 0.5555\n",
            "Epoch 9/10\n",
            "\u001b[1m667/667\u001b[0m \u001b[32m━━━━━━━━━━━━━━━━━━━━\u001b[0m\u001b[37m\u001b[0m \u001b[1m22s\u001b[0m 30ms/step - accuracy: 0.9831 - loss: 0.0615 - val_accuracy: 0.8699 - val_loss: 0.5430\n",
            "Epoch 10/10\n",
            "\u001b[1m667/667\u001b[0m \u001b[32m━━━━━━━━━━━━━━━━━━━━\u001b[0m\u001b[37m\u001b[0m \u001b[1m18s\u001b[0m 27ms/step - accuracy: 0.9765 - loss: 0.0763 - val_accuracy: 0.8703 - val_loss: 0.5342\n"
          ]
        }
      ]
    },
    {
      "cell_type": "code",
      "source": [
        "model.evaluate(test_images, test_labels_encoded)"
      ],
      "metadata": {
        "colab": {
          "base_uri": "https://localhost:8080/"
        },
        "id": "wYmm0gl9JXK2",
        "outputId": "dc38354f-c7be-474a-abf2-65c4f1378443"
      },
      "execution_count": null,
      "outputs": [
        {
          "output_type": "stream",
          "name": "stdout",
          "text": [
            "\u001b[1m199/199\u001b[0m \u001b[32m━━━━━━━━━━━━━━━━━━━━\u001b[0m\u001b[37m\u001b[0m \u001b[1m6s\u001b[0m 31ms/step - accuracy: 0.7588 - loss: 1.1740\n"
          ]
        },
        {
          "output_type": "execute_result",
          "data": {
            "text/plain": [
              "[1.182033896446228, 0.7466582655906677]"
            ]
          },
          "metadata": {},
          "execution_count": 27
        }
      ]
    },
    {
      "cell_type": "code",
      "source": [
        "model.compile(\n",
        "    optimizer=tf.keras.optimizers.Adam(learning_rate=0.0001),\n",
        "    loss='categorical_crossentropy',\n",
        "    metrics=['accuracy']\n",
        ")"
      ],
      "metadata": {
        "id": "Y6K7KjxyJYwF"
      },
      "execution_count": null,
      "outputs": []
    },
    {
      "cell_type": "code",
      "source": [
        "fine_history = model.fit(\n",
        "    x_aug, y_aug_encoded,\n",
        "    epochs=12,\n",
        "    validation_data=(validate_images, validate_labels_encoded),\n",
        "    initial_epoch=history.epoch[-1]+1,\n",
        "    callbacks=callbacks\n",
        ")"
      ],
      "metadata": {
        "colab": {
          "base_uri": "https://localhost:8080/"
        },
        "id": "Sy93jquNJaCH",
        "outputId": "dfbd1c75-a9de-43a5-d4a5-b44425ac1f46"
      },
      "execution_count": null,
      "outputs": [
        {
          "output_type": "stream",
          "name": "stdout",
          "text": [
            "Epoch 11/12\n",
            "\u001b[1m667/667\u001b[0m \u001b[32m━━━━━━━━━━━━━━━━━━━━\u001b[0m\u001b[37m\u001b[0m \u001b[1m32s\u001b[0m 37ms/step - accuracy: 0.9908 - loss: 0.0330 - val_accuracy: 0.8975 - val_loss: 0.3943\n",
            "Epoch 12/12\n",
            "\u001b[1m667/667\u001b[0m \u001b[32m━━━━━━━━━━━━━━━━━━━━\u001b[0m\u001b[37m\u001b[0m \u001b[1m32s\u001b[0m 27ms/step - accuracy: 0.9989 - loss: 0.0109 - val_accuracy: 0.9006 - val_loss: 0.3855\n"
          ]
        }
      ]
    },
    {
      "cell_type": "code",
      "source": [
        "model.evaluate(test_images, test_labels_encoded)"
      ],
      "metadata": {
        "colab": {
          "base_uri": "https://localhost:8080/"
        },
        "id": "kLUQ9fmmJbyu",
        "outputId": "2196d3bf-db91-4866-9719-235ee2b39878"
      },
      "execution_count": null,
      "outputs": [
        {
          "output_type": "stream",
          "name": "stdout",
          "text": [
            "\u001b[1m199/199\u001b[0m \u001b[32m━━━━━━━━━━━━━━━━━━━━\u001b[0m\u001b[37m\u001b[0m \u001b[1m5s\u001b[0m 27ms/step - accuracy: 0.7977 - loss: 0.9303\n"
          ]
        },
        {
          "output_type": "execute_result",
          "data": {
            "text/plain": [
              "[0.9778664708137512, 0.7807831168174744]"
            ]
          },
          "metadata": {},
          "execution_count": 30
        }
      ]
    },
    {
      "cell_type": "code",
      "source": [
        "# Plot training history\n",
        "plt.plot(fine_history.history['accuracy'], label='Train Accuracy')\n",
        "plt.plot(fine_history.history['val_accuracy'], label='Validation Accuracy')\n",
        "plt.xlabel('Epochs')\n",
        "plt.ylabel('Accuracy')\n",
        "plt.legend()\n",
        "plt.title('Training and Validation Accuracy')\n",
        "plt.show()"
      ],
      "metadata": {
        "colab": {
          "base_uri": "https://localhost:8080/",
          "height": 472
        },
        "id": "KEjVUiU5Jcqq",
        "outputId": "45fe09c1-1fe4-4aec-a8d9-e2af33609e17"
      },
      "execution_count": null,
      "outputs": [
        {
          "output_type": "display_data",
          "data": {
            "text/plain": [
              "<Figure size 640x480 with 1 Axes>"
            ],
            "image/png": "[encoded data removed]"
          },
          "metadata": {}
        }
      ]
    },
    {
      "cell_type": "code",
      "source": [
        "from tensorflow.keras.models import load_model\n",
        "best_model = load_model(\"malayalam_mobilenetv3.keras\")\n",
        "\n",
        "test_loss, test_acc = best_model.evaluate(test_images, test_labels_encoded)"
      ],
      "metadata": {
        "colab": {
          "base_uri": "https://localhost:8080/"
        },
        "id": "9DklLydhJfbe",
        "outputId": "0ca261b4-7d19-4af1-cd79-b22b1020cdc7"
      },
      "execution_count": null,
      "outputs": [
        {
          "output_type": "stream",
          "name": "stdout",
          "text": [
            "\u001b[1m199/199\u001b[0m \u001b[32m━━━━━━━━━━━━━━━━━━━━\u001b[0m\u001b[37m\u001b[0m \u001b[1m9s\u001b[0m 25ms/step - accuracy: 0.7977 - loss: 0.9303\n"
          ]
        }
      ]
    },
    {
      "cell_type": "code",
      "source": [
        "def display_image(img, label):\n",
        "    plt.imshow(np.mean(img, axis=-1), cmap='gray', vmin=0, vmax=1)\n",
        "    plt.axis('off')\n",
        "    plt.title(label)\n",
        "    plt.show()"
      ],
      "metadata": {
        "id": "ElknYwlpJg8q"
      },
      "execution_count": null,
      "outputs": []
    },
    {
      "cell_type": "code",
      "source": [
        "import random\n",
        "\n",
        "class_names = np.unique(train_labels)\n",
        "print(class_names)\n",
        "\n",
        "# Select 10 random images\n",
        "fig, axes = plt.subplots(2, 5, figsize=(15, 6))\n",
        "fig.suptitle(\"Actual vs. Predicted Labels\", fontsize=16)\n",
        "\n",
        "for i, ax in enumerate(axes.flat):\n",
        "    # Randomly select an image index\n",
        "    random_index = random.randint(0, len(test_images) - 1)\n",
        "\n",
        "    # Get the image and its actual label\n",
        "    img_array = test_images[random_index]\n",
        "    actual_label = test_labels[random_index]\n",
        "\n",
        "    # Get the prediction\n",
        "    prediction = model.predict(np.expand_dims(img_array, axis=0))\n",
        "    predicted_class = class_names[np.argmax(prediction)]\n",
        "\n",
        "    # Plot the image with actual and predicted labels\n",
        "    gray_image = np.mean(img_array, axis=-1)\n",
        "    ax.imshow(gray_image, cmap='gray')\n",
        "    ax.set_title(f\"Actual: {actual_label}\\nPredicted: {predicted_class}\")\n",
        "    ax.axis(\"off\")\n",
        "\n",
        "plt.tight_layout()\n",
        "plt.show()"
      ],
      "metadata": {
        "colab": {
          "base_uri": "https://localhost:8080/",
          "height": 849
        },
        "id": "RNpXdrfEJiX7",
        "outputId": "f1bb68ab-20e8-412d-8917-46ddca52e18a"
      },
      "execution_count": null,
      "outputs": [
        {
          "output_type": "stream",
          "name": "stdout",
          "text": [
            "[ 1  2  3  4  5  6  7  8  9 10 11 12 13 14 15 16 17 18 19 20 21 22 23 24\n",
            " 25 26 27 28 29 30 31 32 33 34 35 36 37 38 39 40 41 42 43 44 45 46 47 48\n",
            " 49 50 51 52 53 54 55 56 57 58 59 60 61 62 63 64 65 66 67 68 69 70 71 72\n",
            " 73 74 75 76 77 78 79 80 81 82 83 84 85]\n",
            "\u001b[1m1/1\u001b[0m \u001b[32m━━━━━━━━━━━━━━━━━━━━\u001b[0m\u001b[37m\u001b[0m \u001b[1m3s\u001b[0m 3s/step\n",
            "\u001b[1m1/1\u001b[0m \u001b[32m━━━━━━━━━━━━━━━━━━━━\u001b[0m\u001b[37m\u001b[0m \u001b[1m0s\u001b[0m 48ms/step\n",
            "\u001b[1m1/1\u001b[0m \u001b[32m━━━━━━━━━━━━━━━━━━━━\u001b[0m\u001b[37m\u001b[0m \u001b[1m0s\u001b[0m 48ms/step\n",
            "\u001b[1m1/1\u001b[0m \u001b[32m━━━━━━━━━━━━━━━━━━━━\u001b[0m\u001b[37m\u001b[0m \u001b[1m0s\u001b[0m 49ms/step\n",
            "\u001b[1m1/1\u001b[0m \u001b[32m━━━━━━━━━━━━━━━━━━━━\u001b[0m\u001b[37m\u001b[0m \u001b[1m0s\u001b[0m 54ms/step\n",
            "\u001b[1m1/1\u001b[0m \u001b[32m━━━━━━━━━━━━━━━━━━━━\u001b[0m\u001b[37m\u001b[0m \u001b[1m0s\u001b[0m 60ms/step\n",
            "\u001b[1m1/1\u001b[0m \u001b[32m━━━━━━━━━━━━━━━━━━━━\u001b[0m\u001b[37m\u001b[0m \u001b[1m0s\u001b[0m 62ms/step\n",
            "\u001b[1m1/1\u001b[0m \u001b[32m━━━━━━━━━━━━━━━━━━━━\u001b[0m\u001b[37m\u001b[0m \u001b[1m0s\u001b[0m 72ms/step\n",
            "\u001b[1m1/1\u001b[0m \u001b[32m━━━━━━━━━━━━━━━━━━━━\u001b[0m\u001b[37m\u001b[0m \u001b[1m0s\u001b[0m 80ms/step\n",
            "\u001b[1m1/1\u001b[0m \u001b[32m━━━━━━━━━━━━━━━━━━━━\u001b[0m\u001b[37m\u001b[0m \u001b[1m0s\u001b[0m 54ms/step\n"
          ]
        },
        {
          "output_type": "display_data",
          "data": {
            "text/plain": [
              "<Figure size 1500x600 with 10 Axes>"
            ],
            "image/png": "[encoded data removed]"
          },
          "metadata": {}
        }
      ]
    },
    {
      "cell_type": "code",
      "source": [
        "display_image(x_aug[13000], y_aug[13000])"
      ],
      "metadata": {
        "colab": {
          "base_uri": "https://localhost:8080/",
          "height": 428
        },
        "id": "Hi8svAK4JkYu",
        "outputId": "ec2ac12a-dcd1-43d6-b892-b1b8e04e0f34"
      },
      "execution_count": null,
      "outputs": [
        {
          "output_type": "display_data",
          "data": {
            "text/plain": [
              "<Figure size 640x480 with 1 Axes>"
            ],
            "image/png": "[encoded data removed]"
          },
          "metadata": {}
        }
      ]
    }
  ]
}