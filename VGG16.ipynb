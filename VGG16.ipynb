{
  "nbformat": 4,
  "nbformat_minor": 0,
  "metadata": {
    "colab": {
      "provenance": [],
      "gpuType": "T4"
    },
    "kernelspec": {
      "name": "python3",
      "display_name": "Python 3"
    },
    "language_info": {
      "name": "python"
    },
    "accelerator": "GPU"
  },
  "cells": [
    {
      "cell_type": "code",
      "execution_count": 150,
      "metadata": {
        "id": "_r3jyqPwTkT7"
      },
      "outputs": [],
      "source": [
        "import tensorflow as tf\n",
        "from tensorflow.keras.layers import Dense, GlobalAveragePooling2D\n",
        "from tensorflow.keras.utils import to_categorical\n",
        "from tensorflow.keras import layers, Sequential\n",
        "from tensorflow.keras.preprocessing.image import ImageDataGenerator\n",
        "from tensorflow.keras.losses import BinaryCrossentropy\n",
        "from tensorflow.keras.metrics import Accuracy\n",
        "\n",
        "import matplotlib.pyplot as plt\n",
        "import numpy as np\n",
        "import pandas as pd"
      ]
    },
    {
      "cell_type": "code",
      "source": [
        "import os\n",
        "\n",
        "if not os.path.exists(\"Handwritten_V2_train.csv\"):\n",
        "  !gdown 'https://drive.google.com/uc?export=download&id=1phWikkOYex57DGxgNv3PgkF0pQ9Nsm1a'\n",
        "if not os.path.exists(\"Handwritten_V2_test.csv\"):\n",
        "  !gdown 'https://drive.google.com/uc?export=download&id=1ykhOpo8ZjgDfbQ2CdR-zN-X_T8WEtL00'\n",
        "if not os.path.exists(\"Handwritten_V2_valid.csv\"):\n",
        "  !gdown 'https://drive.google.com/uc?export=download&id=1hzhmO5ZK_aVHUfGeWf3s4bHQPyl5EzUJ'\n",
        "\n",
        "train = pd.read_csv(\"Handwritten_V2_train.csv\")\n",
        "test = pd.read_csv(\"Handwritten_V2_test.csv\")\n",
        "validate = pd.read_csv(\"Handwritten_V2_valid.csv\")"
      ],
      "metadata": {
        "colab": {
          "base_uri": "https://localhost:8080/"
        },
        "id": "mK4SmHpX7FJc",
        "outputId": "89e53f69-9621-426b-b85b-eb2ec32697e4"
      },
      "execution_count": 151,
      "outputs": [
        {
          "output_type": "stream",
          "name": "stdout",
          "text": [
            "Downloading...\n",
            "From: https://drive.google.com/uc?export=download&id=1phWikkOYex57DGxgNv3PgkF0pQ9Nsm1a\n",
            "To: /content/Handwritten_V2_train.csv\n",
            "100% 35.3M/35.3M [00:00<00:00, 45.7MB/s]\n",
            "Downloading...\n",
            "From: https://drive.google.com/uc?export=download&id=1ykhOpo8ZjgDfbQ2CdR-zN-X_T8WEtL00\n",
            "To: /content/Handwritten_V2_valid.csv\n",
            "100% 11.7M/11.7M [00:00<00:00, 119MB/s]\n",
            "Downloading...\n",
            "From: https://drive.google.com/uc?export=download&id=1hzhmO5ZK_aVHUfGeWf3s4bHQPyl5EzUJ\n",
            "To: /content/Handwritten_V2_test.csv\n",
            "100% 13.0M/13.0M [00:00<00:00, 133MB/s]\n"
          ]
        }
      ]
    },
    {
      "cell_type": "code",
      "source": [
        "train_images = train.iloc[:, 1:].values\n",
        "test_images = test.iloc[:, 1:].values\n",
        "train_labels = train.iloc[:, 0].values\n",
        "test_labels = test.iloc[:, 0].values\n",
        "validate_labels = validate.iloc[:, 0].values\n",
        "validate_images = validate.iloc[:, 1:].values\n",
        "\n",
        "num_classes = 85\n",
        "\n",
        "train_images = np.concatenate([train_images.reshape(-1, 32, 32, 1)] * 3, axis=-1)\n",
        "test_images = np.concatenate([test_images.reshape(-1, 32, 32, 1)] * 3, axis=-1)\n",
        "validate_images = np.concatenate([validate_images.reshape(-1, 32, 32, 1)] * 3, axis=-1)\n",
        "\n",
        "\n",
        "# Rotate train_images by 180 degrees\n",
        "train_images = tf.image.rot90(train_images, k=3)\n",
        "# Rotate test_images by 180 degrees\n",
        "test_images = tf.image.rot90(test_images, k=3)\n",
        "# Rotate validate_images by 180 degrees\n",
        "validate_images = tf.image.rot90(validate_images, k=3)\n",
        "\n",
        "# Mirror images\n",
        "train_images = tf.image.flip_left_right(train_images)\n",
        "test_images = tf.image.flip_left_right(test_images)\n",
        "validate_images = tf.image.flip_left_right(validate_images)\n",
        "\n",
        "\n",
        "datagen = ImageDataGenerator(\n",
        "    rotation_range=10,\n",
        "    width_shift_range=0.05,\n",
        "    height_shift_range=0.05,\n",
        "    zoom_range=0.05,\n",
        "    horizontal_flip=False,\n",
        "    vertical_flip=False,\n",
        "    fill_mode='nearest'\n",
        ")\n",
        "\n",
        "target_per_class = 250\n",
        "augmented_images = []\n",
        "augmented_labels = []\n",
        "\n",
        "for class_idx in range(1, num_classes+1):\n",
        "    Xc = train_images[train_labels == class_idx]\n",
        "    print(f\"Class {class_idx}: found {Xc.shape[0]} images\")\n",
        "    if Xc.shape[0] == 0:\n",
        "      continue\n",
        "    count = Xc.shape[0]\n",
        "    # Determine how many new images are needed for this class\n",
        "    need = target_per_class - count\n",
        "    if need <= 0:\n",
        "        continue\n",
        "    # Use flow to generate `need` augmented images for this class\n",
        "    gen = datagen.flow(Xc, batch_size=1, shuffle=True)\n",
        "    for _ in range(need):\n",
        "        batch = next(gen)\n",
        "        img = batch[0]\n",
        "        augmented_images.append(img)\n",
        "        augmented_labels.append(class_idx)\n",
        "\n",
        "# Combine original and augmented data\n",
        "x_aug = np.concatenate([train_images, np.array(augmented_images)], axis=0)\n",
        "y_aug = np.concatenate([train_labels, np.array(augmented_labels)], axis=0)\n",
        "print(f\"Augmented data shape: {x_aug.shape}, labels shape: {y_aug.shape}\")"
      ],
      "metadata": {
        "colab": {
          "base_uri": "https://localhost:8080/"
        },
        "id": "kQfmALc_TzmK",
        "outputId": "26fb5477-e8f6-4f20-bd57-5164f40aa8a3"
      },
      "execution_count": 152,
      "outputs": [
        {
          "output_type": "stream",
          "name": "stdout",
          "text": [
            "Class 1: found 179 images\n",
            "Class 2: found 316 images\n",
            "Class 3: found 192 images\n",
            "Class 4: found 190 images\n",
            "Class 5: found 180 images\n",
            "Class 6: found 183 images\n",
            "Class 7: found 175 images\n",
            "Class 8: found 194 images\n",
            "Class 9: found 204 images\n",
            "Class 10: found 230 images\n",
            "Class 11: found 171 images\n",
            "Class 12: found 228 images\n",
            "Class 13: found 191 images\n",
            "Class 14: found 225 images\n",
            "Class 15: found 234 images\n",
            "Class 16: found 197 images\n",
            "Class 17: found 220 images\n",
            "Class 18: found 198 images\n",
            "Class 19: found 250 images\n",
            "Class 20: found 211 images\n",
            "Class 21: found 202 images\n",
            "Class 22: found 210 images\n",
            "Class 23: found 201 images\n",
            "Class 24: found 186 images\n",
            "Class 25: found 198 images\n",
            "Class 26: found 191 images\n",
            "Class 27: found 205 images\n",
            "Class 28: found 180 images\n",
            "Class 29: found 200 images\n",
            "Class 30: found 209 images\n",
            "Class 31: found 190 images\n",
            "Class 32: found 185 images\n",
            "Class 33: found 197 images\n",
            "Class 34: found 213 images\n",
            "Class 35: found 213 images\n",
            "Class 36: found 215 images\n",
            "Class 37: found 207 images\n",
            "Class 38: found 197 images\n",
            "Class 39: found 198 images\n",
            "Class 40: found 177 images\n",
            "Class 41: found 209 images\n",
            "Class 42: found 205 images\n",
            "Class 43: found 198 images\n",
            "Class 44: found 217 images\n",
            "Class 45: found 206 images\n",
            "Class 46: found 201 images\n",
            "Class 47: found 180 images\n",
            "Class 48: found 210 images\n",
            "Class 49: found 204 images\n",
            "Class 50: found 197 images\n",
            "Class 51: found 206 images\n",
            "Class 52: found 200 images\n",
            "Class 53: found 205 images\n",
            "Class 54: found 192 images\n",
            "Class 55: found 209 images\n",
            "Class 56: found 214 images\n",
            "Class 57: found 219 images\n",
            "Class 58: found 217 images\n",
            "Class 59: found 221 images\n",
            "Class 60: found 223 images\n",
            "Class 61: found 212 images\n",
            "Class 62: found 201 images\n",
            "Class 63: found 213 images\n",
            "Class 64: found 216 images\n",
            "Class 65: found 208 images\n",
            "Class 66: found 216 images\n",
            "Class 67: found 207 images\n",
            "Class 68: found 217 images\n",
            "Class 69: found 204 images\n",
            "Class 70: found 138 images\n",
            "Class 71: found 210 images\n",
            "Class 72: found 207 images\n",
            "Class 73: found 186 images\n",
            "Class 74: found 218 images\n",
            "Class 75: found 202 images\n",
            "Class 76: found 189 images\n",
            "Class 77: found 213 images\n",
            "Class 78: found 216 images\n",
            "Class 79: found 196 images\n",
            "Class 80: found 173 images\n",
            "Class 81: found 180 images\n",
            "Class 82: found 195 images\n",
            "Class 83: found 166 images\n",
            "Class 84: found 177 images\n",
            "Class 85: found 200 images\n",
            "Augmented data shape: (21316, 32, 32, 3), labels shape: (21316,)\n"
          ]
        }
      ]
    },
    {
      "cell_type": "markdown",
      "source": [
        "## One hot encoding"
      ],
      "metadata": {
        "id": "rNfEAw0VvKnR"
      }
    },
    {
      "cell_type": "code",
      "source": [
        "y_aug_new = np.array(y_aug) - 1\n",
        "test_labels_new = np.array(test_labels) - 1\n",
        "validate_labels_new = np.array(validate_labels) - 1\n",
        "\n",
        "y_aug_encoded = to_categorical(y_aug_new, num_classes=num_classes)\n",
        "test_labels_encoded = to_categorical(test_labels_new, num_classes=num_classes)\n",
        "validate_labels_encoded = to_categorical(validate_labels_new, num_classes=num_classes)"
      ],
      "metadata": {
        "id": "v7I-iMBAUQ8a"
      },
      "execution_count": 153,
      "outputs": []
    },
    {
      "cell_type": "code",
      "source": [
        "from tensorflow.keras.applications import VGG16\n",
        "\n",
        "base_model = VGG16(\n",
        "    weights='imagenet',\n",
        "    include_top=False,\n",
        "    input_shape=(32, 32, 3)\n",
        ")"
      ],
      "metadata": {
        "id": "cj64jNyvUdPG"
      },
      "execution_count": 154,
      "outputs": []
    },
    {
      "cell_type": "code",
      "source": [
        "base_model.trainable = False\n",
        "for layer in base_model.layers[-3:]:\n",
        "    layer.trainable = True"
      ],
      "metadata": {
        "id": "d22IYWr8Uj7V"
      },
      "execution_count": 155,
      "outputs": []
    },
    {
      "cell_type": "code",
      "source": [
        "model = Sequential([\n",
        "    base_model,\n",
        "    GlobalAveragePooling2D(),\n",
        "    Dense(85, activation='softmax')\n",
        "    ])"
      ],
      "metadata": {
        "id": "sBfK2xxiUmOH"
      },
      "execution_count": 156,
      "outputs": []
    },
    {
      "cell_type": "code",
      "source": [
        "model.summary()"
      ],
      "metadata": {
        "colab": {
          "base_uri": "https://localhost:8080/",
          "height": 287
        },
        "id": "ttUzxoxkU0Q9",
        "outputId": "d9c9e659-30e5-4a2f-fbd5-6dfcca2a5bf5"
      },
      "execution_count": 157,
      "outputs": [
        {
          "output_type": "display_data",
          "data": {
            "text/plain": [
              "\u001b[1mModel: \"sequential_5\"\u001b[0m\n"
            ],
            "text/html": [
              "<pre style=\"white-space:pre;overflow-x:auto;line-height:normal;font-family:Menlo,'DejaVu Sans Mono',consolas,'Courier New',monospace\"><span style=\"font-weight: bold\">Model: \"sequential_5\"</span>\n",
              "</pre>\n"
            ]
          },
          "metadata": {}
        },
        {
          "output_type": "display_data",
          "data": {
            "text/plain": [
              "┏━━━━━━━━━━━━━━━━━━━━━━━━━━━━━━━━━┳━━━━━━━━━━━━━━━━━━━━━━━━┳━━━━━━━━━━━━━━━┓\n",
              "┃\u001b[1m \u001b[0m\u001b[1mLayer (type)                   \u001b[0m\u001b[1m \u001b[0m┃\u001b[1m \u001b[0m\u001b[1mOutput Shape          \u001b[0m\u001b[1m \u001b[0m┃\u001b[1m \u001b[0m\u001b[1m      Param #\u001b[0m\u001b[1m \u001b[0m┃\n",
              "┡━━━━━━━━━━━━━━━━━━━━━━━━━━━━━━━━━╇━━━━━━━━━━━━━━━━━━━━━━━━╇━━━━━━━━━━━━━━━┩\n",
              "│ vgg16 (\u001b[38;5;33mFunctional\u001b[0m)              │ (\u001b[38;5;45mNone\u001b[0m, \u001b[38;5;34m1\u001b[0m, \u001b[38;5;34m1\u001b[0m, \u001b[38;5;34m512\u001b[0m)      │    \u001b[38;5;34m14,714,688\u001b[0m │\n",
              "├─────────────────────────────────┼────────────────────────┼───────────────┤\n",
              "│ global_average_pooling2d_5      │ (\u001b[38;5;45mNone\u001b[0m, \u001b[38;5;34m512\u001b[0m)            │             \u001b[38;5;34m0\u001b[0m │\n",
              "│ (\u001b[38;5;33mGlobalAveragePooling2D\u001b[0m)        │                        │               │\n",
              "├─────────────────────────────────┼────────────────────────┼───────────────┤\n",
              "│ dense_5 (\u001b[38;5;33mDense\u001b[0m)                 │ (\u001b[38;5;45mNone\u001b[0m, \u001b[38;5;34m85\u001b[0m)             │        \u001b[38;5;34m43,605\u001b[0m │\n",
              "└─────────────────────────────────┴────────────────────────┴───────────────┘\n"
            ],
            "text/html": [
              "<pre style=\"white-space:pre;overflow-x:auto;line-height:normal;font-family:Menlo,'DejaVu Sans Mono',consolas,'Courier New',monospace\">┏━━━━━━━━━━━━━━━━━━━━━━━━━━━━━━━━━┳━━━━━━━━━━━━━━━━━━━━━━━━┳━━━━━━━━━━━━━━━┓\n",
              "┃<span style=\"font-weight: bold\"> Layer (type)                    </span>┃<span style=\"font-weight: bold\"> Output Shape           </span>┃<span style=\"font-weight: bold\">       Param # </span>┃\n",
              "┡━━━━━━━━━━━━━━━━━━━━━━━━━━━━━━━━━╇━━━━━━━━━━━━━━━━━━━━━━━━╇━━━━━━━━━━━━━━━┩\n",
              "│ vgg16 (<span style=\"color: #0087ff; text-decoration-color: #0087ff\">Functional</span>)              │ (<span style=\"color: #00d7ff; text-decoration-color: #00d7ff\">None</span>, <span style=\"color: #00af00; text-decoration-color: #00af00\">1</span>, <span style=\"color: #00af00; text-decoration-color: #00af00\">1</span>, <span style=\"color: #00af00; text-decoration-color: #00af00\">512</span>)      │    <span style=\"color: #00af00; text-decoration-color: #00af00\">14,714,688</span> │\n",
              "├─────────────────────────────────┼────────────────────────┼───────────────┤\n",
              "│ global_average_pooling2d_5      │ (<span style=\"color: #00d7ff; text-decoration-color: #00d7ff\">None</span>, <span style=\"color: #00af00; text-decoration-color: #00af00\">512</span>)            │             <span style=\"color: #00af00; text-decoration-color: #00af00\">0</span> │\n",
              "│ (<span style=\"color: #0087ff; text-decoration-color: #0087ff\">GlobalAveragePooling2D</span>)        │                        │               │\n",
              "├─────────────────────────────────┼────────────────────────┼───────────────┤\n",
              "│ dense_5 (<span style=\"color: #0087ff; text-decoration-color: #0087ff\">Dense</span>)                 │ (<span style=\"color: #00d7ff; text-decoration-color: #00d7ff\">None</span>, <span style=\"color: #00af00; text-decoration-color: #00af00\">85</span>)             │        <span style=\"color: #00af00; text-decoration-color: #00af00\">43,605</span> │\n",
              "└─────────────────────────────────┴────────────────────────┴───────────────┘\n",
              "</pre>\n"
            ]
          },
          "metadata": {}
        },
        {
          "output_type": "display_data",
          "data": {
            "text/plain": [
              "\u001b[1m Total params: \u001b[0m\u001b[38;5;34m14,758,293\u001b[0m (56.30 MB)\n"
            ],
            "text/html": [
              "<pre style=\"white-space:pre;overflow-x:auto;line-height:normal;font-family:Menlo,'DejaVu Sans Mono',consolas,'Courier New',monospace\"><span style=\"font-weight: bold\"> Total params: </span><span style=\"color: #00af00; text-decoration-color: #00af00\">14,758,293</span> (56.30 MB)\n",
              "</pre>\n"
            ]
          },
          "metadata": {}
        },
        {
          "output_type": "display_data",
          "data": {
            "text/plain": [
              "\u001b[1m Trainable params: \u001b[0m\u001b[38;5;34m4,763,221\u001b[0m (18.17 MB)\n"
            ],
            "text/html": [
              "<pre style=\"white-space:pre;overflow-x:auto;line-height:normal;font-family:Menlo,'DejaVu Sans Mono',consolas,'Courier New',monospace\"><span style=\"font-weight: bold\"> Trainable params: </span><span style=\"color: #00af00; text-decoration-color: #00af00\">4,763,221</span> (18.17 MB)\n",
              "</pre>\n"
            ]
          },
          "metadata": {}
        },
        {
          "output_type": "display_data",
          "data": {
            "text/plain": [
              "\u001b[1m Non-trainable params: \u001b[0m\u001b[38;5;34m9,995,072\u001b[0m (38.13 MB)\n"
            ],
            "text/html": [
              "<pre style=\"white-space:pre;overflow-x:auto;line-height:normal;font-family:Menlo,'DejaVu Sans Mono',consolas,'Courier New',monospace\"><span style=\"font-weight: bold\"> Non-trainable params: </span><span style=\"color: #00af00; text-decoration-color: #00af00\">9,995,072</span> (38.13 MB)\n",
              "</pre>\n"
            ]
          },
          "metadata": {}
        }
      ]
    },
    {
      "cell_type": "code",
      "source": [
        "model.compile(\n",
        "    optimizer=tf.keras.optimizers.Adam(learning_rate=0.001),\n",
        "    loss='categorical_crossentropy',\n",
        "    metrics=['accuracy']\n",
        ")"
      ],
      "metadata": {
        "id": "nj_r0CraU1Gf"
      },
      "execution_count": 158,
      "outputs": []
    },
    {
      "cell_type": "code",
      "source": [
        "epochs = 10\n",
        "\n",
        "callbacks = [\n",
        "    tf.keras.callbacks.ModelCheckpoint(\n",
        "        filepath='malayalam_mobilenetv3.keras',\n",
        "        save_best_only=True,\n",
        "        monitor='val_accuracy'\n",
        "    ),\n",
        "    tf.keras.callbacks.EarlyStopping(\n",
        "    monitor='val_accuracy',\n",
        "    patience=10,\n",
        "    mode='max',\n",
        "    restore_best_weights=True\n",
        "    )\n",
        "]"
      ],
      "metadata": {
        "id": "FV8eiTDqU4rU"
      },
      "execution_count": 159,
      "outputs": []
    },
    {
      "cell_type": "code",
      "source": [
        "history = model.fit(\n",
        "    x_aug, y_aug_encoded,\n",
        "    epochs=epochs,\n",
        "    validation_data=(validate_images, validate_labels_encoded),\n",
        "    callbacks=callbacks,\n",
        ")"
      ],
      "metadata": {
        "colab": {
          "base_uri": "https://localhost:8080/"
        },
        "id": "ZYzVpSu1U5b9",
        "outputId": "a8daf078-0fba-40c6-d1fd-d3a83ccb5308"
      },
      "execution_count": 140,
      "outputs": [
        {
          "output_type": "stream",
          "name": "stdout",
          "text": [
            "Epoch 1/10\n",
            "\u001b[1m667/667\u001b[0m \u001b[32m━━━━━━━━━━━━━━━━━━━━\u001b[0m\u001b[37m\u001b[0m \u001b[1m15s\u001b[0m 18ms/step - accuracy: 0.4433 - loss: 2.2282 - val_accuracy: 0.8152 - val_loss: 0.5508\n",
            "Epoch 2/10\n",
            "\u001b[1m667/667\u001b[0m \u001b[32m━━━━━━━━━━━━━━━━━━━━\u001b[0m\u001b[37m\u001b[0m \u001b[1m10s\u001b[0m 15ms/step - accuracy: 0.8628 - loss: 0.4143 - val_accuracy: 0.8561 - val_loss: 0.4559\n",
            "Epoch 3/10\n",
            "\u001b[1m667/667\u001b[0m \u001b[32m━━━━━━━━━━━━━━━━━━━━\u001b[0m\u001b[37m\u001b[0m \u001b[1m10s\u001b[0m 14ms/step - accuracy: 0.8988 - loss: 0.3040 - val_accuracy: 0.8941 - val_loss: 0.3416\n",
            "Epoch 4/10\n",
            "\u001b[1m667/667\u001b[0m \u001b[32m━━━━━━━━━━━━━━━━━━━━\u001b[0m\u001b[37m\u001b[0m \u001b[1m10s\u001b[0m 14ms/step - accuracy: 0.9268 - loss: 0.2251 - val_accuracy: 0.9223 - val_loss: 0.2626\n",
            "Epoch 5/10\n",
            "\u001b[1m667/667\u001b[0m \u001b[32m━━━━━━━━━━━━━━━━━━━━\u001b[0m\u001b[37m\u001b[0m \u001b[1m9s\u001b[0m 13ms/step - accuracy: 0.9340 - loss: 0.1863 - val_accuracy: 0.9174 - val_loss: 0.2849\n",
            "Epoch 6/10\n",
            "\u001b[1m667/667\u001b[0m \u001b[32m━━━━━━━━━━━━━━━━━━━━\u001b[0m\u001b[37m\u001b[0m \u001b[1m9s\u001b[0m 13ms/step - accuracy: 0.9362 - loss: 0.2035 - val_accuracy: 0.9178 - val_loss: 0.2905\n",
            "Epoch 7/10\n",
            "\u001b[1m667/667\u001b[0m \u001b[32m━━━━━━━━━━━━━━━━━━━━\u001b[0m\u001b[37m\u001b[0m \u001b[1m9s\u001b[0m 13ms/step - accuracy: 0.9453 - loss: 0.1699 - val_accuracy: 0.9004 - val_loss: 0.3364\n",
            "Epoch 8/10\n",
            "\u001b[1m667/667\u001b[0m \u001b[32m━━━━━━━━━━━━━━━━━━━━\u001b[0m\u001b[37m\u001b[0m \u001b[1m11s\u001b[0m 14ms/step - accuracy: 0.9480 - loss: 0.1619 - val_accuracy: 0.9246 - val_loss: 0.2945\n",
            "Epoch 9/10\n",
            "\u001b[1m667/667\u001b[0m \u001b[32m━━━━━━━━━━━━━━━━━━━━\u001b[0m\u001b[37m\u001b[0m \u001b[1m11s\u001b[0m 16ms/step - accuracy: 0.9570 - loss: 0.1322 - val_accuracy: 0.9267 - val_loss: 0.2576\n",
            "Epoch 10/10\n",
            "\u001b[1m667/667\u001b[0m \u001b[32m━━━━━━━━━━━━━━━━━━━━\u001b[0m\u001b[37m\u001b[0m \u001b[1m19s\u001b[0m 14ms/step - accuracy: 0.9556 - loss: 0.1374 - val_accuracy: 0.9132 - val_loss: 0.3096\n"
          ]
        }
      ]
    },
    {
      "cell_type": "code",
      "source": [
        "model.evaluate(test_images, test_labels_encoded)"
      ],
      "metadata": {
        "colab": {
          "base_uri": "https://localhost:8080/"
        },
        "id": "AIWLgU0VU9DB",
        "outputId": "71c17314-2bd4-41c9-86db-666efa5db399"
      },
      "execution_count": 141,
      "outputs": [
        {
          "output_type": "stream",
          "name": "stdout",
          "text": [
            "\u001b[1m199/199\u001b[0m \u001b[32m━━━━━━━━━━━━━━━━━━━━\u001b[0m\u001b[37m\u001b[0m \u001b[1m2s\u001b[0m 10ms/step - accuracy: 0.8558 - loss: 0.6394\n"
          ]
        },
        {
          "output_type": "execute_result",
          "data": {
            "text/plain": [
              "[0.702223539352417, 0.8440006375312805]"
            ]
          },
          "metadata": {},
          "execution_count": 141
        }
      ]
    },
    {
      "cell_type": "code",
      "source": [
        "model.compile(\n",
        "    optimizer=tf.keras.optimizers.Adam(learning_rate=0.0001),\n",
        "    loss='categorical_crossentropy',\n",
        "    metrics=['accuracy']\n",
        ")"
      ],
      "metadata": {
        "id": "9Uh70mFdVAGW"
      },
      "execution_count": 142,
      "outputs": []
    },
    {
      "cell_type": "code",
      "source": [
        "fine_history = model.fit(\n",
        "    x_aug, y_aug_encoded,\n",
        "    epochs=12,\n",
        "    validation_data=(validate_images, validate_labels_encoded),\n",
        "    initial_epoch=history.epoch[-1]+1,\n",
        "    callbacks=callbacks\n",
        ")"
      ],
      "metadata": {
        "colab": {
          "base_uri": "https://localhost:8080/"
        },
        "id": "gkVA9a7bVMt4",
        "outputId": "3e967589-6d84-40da-9c33-f7efd82bf23f"
      },
      "execution_count": 143,
      "outputs": [
        {
          "output_type": "stream",
          "name": "stdout",
          "text": [
            "Epoch 11/12\n",
            "\u001b[1m667/667\u001b[0m \u001b[32m━━━━━━━━━━━━━━━━━━━━\u001b[0m\u001b[37m\u001b[0m \u001b[1m15s\u001b[0m 18ms/step - accuracy: 0.9812 - loss: 0.0545 - val_accuracy: 0.9513 - val_loss: 0.1768\n",
            "Epoch 12/12\n",
            "\u001b[1m667/667\u001b[0m \u001b[32m━━━━━━━━━━━━━━━━━━━━\u001b[0m\u001b[37m\u001b[0m \u001b[1m9s\u001b[0m 14ms/step - accuracy: 0.9935 - loss: 0.0213 - val_accuracy: 0.9564 - val_loss: 0.1750\n"
          ]
        }
      ]
    },
    {
      "cell_type": "code",
      "source": [
        "model.evaluate(test_images, test_labels_encoded)"
      ],
      "metadata": {
        "colab": {
          "base_uri": "https://localhost:8080/"
        },
        "id": "wnWI7GXhVQ2E",
        "outputId": "26058432-b9f1-46f0-f3e7-2c90e51d30e6"
      },
      "execution_count": 144,
      "outputs": [
        {
          "output_type": "stream",
          "name": "stdout",
          "text": [
            "\u001b[1m199/199\u001b[0m \u001b[32m━━━━━━━━━━━━━━━━━━━━\u001b[0m\u001b[37m\u001b[0m \u001b[1m2s\u001b[0m 12ms/step - accuracy: 0.9028 - loss: 0.5182\n"
          ]
        },
        {
          "output_type": "execute_result",
          "data": {
            "text/plain": [
              "[0.5642569661140442, 0.8877182006835938]"
            ]
          },
          "metadata": {},
          "execution_count": 144
        }
      ]
    },
    {
      "cell_type": "code",
      "source": [
        "# Plot training history\n",
        "plt.plot(fine_history.history['accuracy'], label='Train Accuracy')\n",
        "plt.plot(fine_history.history['val_accuracy'], label='Validation Accuracy')\n",
        "plt.xlabel('Epochs')\n",
        "plt.ylabel('Accuracy')\n",
        "plt.legend()\n",
        "plt.title('Training and Validation Accuracy')\n",
        "plt.show()"
      ],
      "metadata": {
        "colab": {
          "base_uri": "https://localhost:8080/",
          "height": 472
        },
        "id": "fngdkATbVSup",
        "outputId": "73dc410e-12dc-4602-a66f-37260f164286"
      },
      "execution_count": 145,
      "outputs": [
        {
          "output_type": "display_data",
          "data": {
            "text/plain": [
              "<Figure size 640x480 with 1 Axes>"
            ],
            "image/png": "[encoded data removed]"
          },
          "metadata": {}
        }
      ]
    },
    {
      "cell_type": "code",
      "source": [
        "from tensorflow.keras.models import load_model\n",
        "best_model = load_model(\"malayalam_mobilenetv3.keras\")\n",
        "\n",
        "test_loss, test_acc = best_model.evaluate(test_images, test_labels_encoded)"
      ],
      "metadata": {
        "colab": {
          "base_uri": "https://localhost:8080/"
        },
        "id": "Ucnj-Dm8jw_p",
        "outputId": "f64431c7-277b-4076-b69c-abae4cf10977"
      },
      "execution_count": 146,
      "outputs": [
        {
          "output_type": "stream",
          "name": "stdout",
          "text": [
            "\u001b[1m199/199\u001b[0m \u001b[32m━━━━━━━━━━━━━━━━━━━━\u001b[0m\u001b[37m\u001b[0m \u001b[1m3s\u001b[0m 11ms/step - accuracy: 0.9028 - loss: 0.5182\n"
          ]
        }
      ]
    },
    {
      "cell_type": "code",
      "source": [
        "def display_image(img, label):\n",
        "    plt.imshow(np.mean(img, axis=-1), cmap='gray', vmin=0, vmax=1)\n",
        "    plt.axis('off')\n",
        "    plt.title(label)\n",
        "    plt.show()"
      ],
      "metadata": {
        "id": "zD963p2bljUV"
      },
      "execution_count": 147,
      "outputs": []
    },
    {
      "cell_type": "code",
      "source": [
        "import random\n",
        "\n",
        "class_names = np.unique(train_labels)\n",
        "print(class_names)\n",
        "\n",
        "# Select 10 random images\n",
        "fig, axes = plt.subplots(2, 5, figsize=(15, 6))\n",
        "fig.suptitle(\"Actual vs. Predicted Labels\", fontsize=16)\n",
        "\n",
        "for i, ax in enumerate(axes.flat):\n",
        "    # Randomly select an image index\n",
        "    random_index = random.randint(0, len(test_images) - 1)\n",
        "\n",
        "    # Get the image and its actual label\n",
        "    img_array = test_images[random_index]\n",
        "    actual_label = test_labels[random_index]\n",
        "\n",
        "    # Get the prediction\n",
        "    prediction = model.predict(np.expand_dims(img_array, axis=0))\n",
        "    predicted_class = class_names[np.argmax(prediction)]\n",
        "\n",
        "    # Plot the image with actual and predicted labels\n",
        "    gray_image = np.mean(img_array, axis=-1)\n",
        "    ax.imshow(gray_image, cmap='gray')\n",
        "    ax.set_title(f\"Actual: {actual_label}\\nPredicted: {predicted_class}\")\n",
        "    ax.axis(\"off\")\n",
        "\n",
        "plt.tight_layout()\n",
        "plt.show()"
      ],
      "metadata": {
        "colab": {
          "base_uri": "https://localhost:8080/",
          "height": 920
        },
        "id": "DT7DRtGTkbIF",
        "outputId": "04b0c77b-148d-42b9-efe4-affb3c507c2c"
      },
      "execution_count": 148,
      "outputs": [
        {
          "output_type": "stream",
          "name": "stdout",
          "text": [
            "[ 1  2  3  4  5  6  7  8  9 10 11 12 13 14 15 16 17 18 19 20 21 22 23 24\n",
            " 25 26 27 28 29 30 31 32 33 34 35 36 37 38 39 40 41 42 43 44 45 46 47 48\n",
            " 49 50 51 52 53 54 55 56 57 58 59 60 61 62 63 64 65 66 67 68 69 70 71 72\n",
            " 73 74 75 76 77 78 79 80 81 82 83 84 85]\n",
            "\u001b[1m1/1\u001b[0m \u001b[32m━━━━━━━━━━━━━━━━━━━━\u001b[0m\u001b[37m\u001b[0m \u001b[1m1s\u001b[0m 521ms/step\n",
            "\u001b[1m1/1\u001b[0m \u001b[32m━━━━━━━━━━━━━━━━━━━━\u001b[0m\u001b[37m\u001b[0m \u001b[1m0s\u001b[0m 30ms/step\n",
            "\u001b[1m1/1\u001b[0m \u001b[32m━━━━━━━━━━━━━━━━━━━━\u001b[0m\u001b[37m\u001b[0m \u001b[1m0s\u001b[0m 29ms/step\n",
            "\u001b[1m1/1\u001b[0m \u001b[32m━━━━━━━━━━━━━━━━━━━━\u001b[0m\u001b[37m\u001b[0m \u001b[1m0s\u001b[0m 29ms/step\n",
            "\u001b[1m1/1\u001b[0m \u001b[32m━━━━━━━━━━━━━━━━━━━━\u001b[0m\u001b[37m\u001b[0m \u001b[1m0s\u001b[0m 29ms/step\n",
            "\u001b[1m1/1\u001b[0m \u001b[32m━━━━━━━━━━━━━━━━━━━━\u001b[0m\u001b[37m\u001b[0m \u001b[1m0s\u001b[0m 28ms/step\n",
            "\u001b[1m1/1\u001b[0m \u001b[32m━━━━━━━━━━━━━━━━━━━━\u001b[0m\u001b[37m\u001b[0m \u001b[1m0s\u001b[0m 29ms/step\n",
            "\u001b[1m1/1\u001b[0m \u001b[32m━━━━━━━━━━━━━━━━━━━━\u001b[0m\u001b[37m\u001b[0m \u001b[1m0s\u001b[0m 30ms/step\n",
            "\u001b[1m1/1\u001b[0m \u001b[32m━━━━━━━━━━━━━━━━━━━━\u001b[0m\u001b[37m\u001b[0m \u001b[1m0s\u001b[0m 32ms/step\n",
            "\u001b[1m1/1\u001b[0m \u001b[32m━━━━━━━━━━━━━━━━━━━━\u001b[0m\u001b[37m\u001b[0m \u001b[1m0s\u001b[0m 32ms/step\n"
          ]
        },
        {
          "output_type": "display_data",
          "data": {
            "text/plain": [
              "<Figure size 1500x600 with 10 Axes>"
            ],
            "image/png": "[encoded data removed]"
          },
          "metadata": {}
        }
      ]
    },
    {
      "cell_type": "code",
      "source": [
        "display_image(x_aug[13000], y_aug[13000])"
      ],
      "metadata": {
        "colab": {
          "base_uri": "https://localhost:8080/",
          "height": 428
        },
        "id": "8yOiBXk-4ONB",
        "outputId": "a49e1107-b9c7-4010-b2e0-d37cb0d2fabf"
      },
      "execution_count": 160,
      "outputs": [
        {
          "output_type": "display_data",
          "data": {
            "text/plain": [
              "<Figure size 640x480 with 1 Axes>"
            ],
            "image/png": "[encoded data removed]"
          },
          "metadata": {}
        }
      ]
    }
  ]
}