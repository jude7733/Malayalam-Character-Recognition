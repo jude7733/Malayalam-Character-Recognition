{
  "nbformat": 4,
  "nbformat_minor": 0,
  "metadata": {
    "colab": {
      "provenance": [],
      "gpuType": "T4"
    },
    "kernelspec": {
      "name": "python3",
      "display_name": "Python 3"
    },
    "language_info": {
      "name": "python"
    },
    "accelerator": "GPU"
  },
  "cells": [
    {
      "cell_type": "code",
      "execution_count": 1,
      "metadata": {
        "id": "_r3jyqPwTkT7"
      },
      "outputs": [],
      "source": [
        "import tensorflow as tf\n",
        "from tensorflow.keras.layers import Dense, GlobalAveragePooling2D\n",
        "from tensorflow.keras.utils import to_categorical\n",
        "from tensorflow.keras import layers, Sequential\n",
        "from tensorflow.keras.preprocessing.image import ImageDataGenerator\n",
        "from tensorflow.keras.losses import BinaryCrossentropy\n",
        "from tensorflow.keras.metrics import Accuracy\n",
        "\n",
        "import matplotlib.pyplot as plt\n",
        "import numpy as np\n",
        "import pandas as pd"
      ]
    },
    {
      "cell_type": "code",
      "source": [
        "import os\n",
        "\n",
        "if not os.path.exists(\"Handwritten_V2_train.csv\"):\n",
        "  !gdown 'https://drive.google.com/uc?export=download&id=1phWikkOYex57DGxgNv3PgkF0pQ9Nsm1a'\n",
        "if not os.path.exists(\"Handwritten_V2_valid.csv\"):\n",
        "  !gdown 'https://drive.google.com/uc?export=download&id=1ykhOpo8ZjgDfbQ2CdR-zN-X_T8WEtL00'\n",
        "if not os.path.exists(\"Handwritten_V2_test.csv\"):\n",
        "  !gdown 'https://drive.google.com/uc?export=download&id=1hzhmO5ZK_aVHUfGeWf3s4bHQPyl5EzUJ'\n",
        "\n",
        "train = pd.read_csv(\"Handwritten_V2_train.csv\")\n",
        "test = pd.read_csv(\"Handwritten_V2_test.csv\")\n",
        "validate = pd.read_csv(\"Handwritten_V2_valid.csv\")"
      ],
      "metadata": {
        "colab": {
          "base_uri": "https://localhost:8080/"
        },
        "id": "mK4SmHpX7FJc",
        "outputId": "e4221952-3d33-4aea-b66a-0e58058e7c45"
      },
      "execution_count": 2,
      "outputs": [
        {
          "output_type": "stream",
          "name": "stdout",
          "text": [
            "Downloading...\n",
            "From: https://drive.google.com/uc?export=download&id=1phWikkOYex57DGxgNv3PgkF0pQ9Nsm1a\n",
            "To: /content/Handwritten_V2_train.csv\n",
            "100% 35.3M/35.3M [00:00<00:00, 55.9MB/s]\n",
            "Downloading...\n",
            "From: https://drive.google.com/uc?export=download&id=1ykhOpo8ZjgDfbQ2CdR-zN-X_T8WEtL00\n",
            "To: /content/Handwritten_V2_valid.csv\n",
            "100% 11.7M/11.7M [00:00<00:00, 123MB/s]\n",
            "Downloading...\n",
            "From: https://drive.google.com/uc?export=download&id=1hzhmO5ZK_aVHUfGeWf3s4bHQPyl5EzUJ\n",
            "To: /content/Handwritten_V2_test.csv\n",
            "100% 13.0M/13.0M [00:00<00:00, 26.6MB/s]\n"
          ]
        }
      ]
    },
    {
      "cell_type": "code",
      "source": [
        "train_images = train.iloc[:, 1:].values\n",
        "test_images = test.iloc[:, 1:].values\n",
        "train_labels = train.iloc[:, 0].values\n",
        "test_labels = test.iloc[:, 0].values\n",
        "validate_labels = validate.iloc[:, 0].values\n",
        "validate_images = validate.iloc[:, 1:].values\n",
        "\n",
        "num_classes = 85\n",
        "\n",
        "train_images = np.concatenate([train_images.reshape(-1, 32, 32, 1)] * 3, axis=-1)\n",
        "test_images = np.concatenate([test_images.reshape(-1, 32, 32, 1)] * 3, axis=-1)\n",
        "validate_images = np.concatenate([validate_images.reshape(-1, 32, 32, 1)] * 3, axis=-1)\n",
        "\n",
        "\n",
        "train_images = tf.image.rot90(train_images, k=3)\n",
        "test_images = tf.image.rot90(test_images, k=3)\n",
        "validate_images = tf.image.rot90(validate_images, k=3)\n",
        "\n",
        "# Mirror images\n",
        "train_images = tf.image.flip_left_right(train_images)\n",
        "test_images = tf.image.flip_left_right(test_images)\n",
        "validate_images = tf.image.flip_left_right(validate_images)\n",
        "\n",
        "\n",
        "datagen = ImageDataGenerator(\n",
        "    rotation_range=10,\n",
        "    width_shift_range=0.05,\n",
        "    height_shift_range=0.05,\n",
        "    zoom_range=0.05,\n",
        "    horizontal_flip=False,\n",
        "    vertical_flip=False,\n",
        "    fill_mode='nearest'\n",
        ")\n",
        "\n",
        "target_per_class = 250\n",
        "augmented_images = []\n",
        "augmented_labels = []\n",
        "\n",
        "for class_idx in range(1, num_classes+1):\n",
        "    Xc = train_images[train_labels == class_idx]\n",
        "    print(f\"Class {class_idx}: found {Xc.shape[0]} images\")\n",
        "    if Xc.shape[0] == 0:\n",
        "      continue\n",
        "    count = Xc.shape[0]\n",
        "    # Determine how many new images are needed for this class\n",
        "    need = target_per_class - count\n",
        "    if need <= 0:\n",
        "        continue\n",
        "    # Use flow to generate `need` augmented images for this class\n",
        "    gen = datagen.flow(Xc, batch_size=1, shuffle=True)\n",
        "    for _ in range(need):\n",
        "        batch = next(gen)\n",
        "        img = batch[0]\n",
        "        augmented_images.append(img)\n",
        "        augmented_labels.append(class_idx)\n",
        "\n",
        "# Combine original and augmented data\n",
        "x_aug = np.concatenate([train_images, np.array(augmented_images)], axis=0)\n",
        "y_aug = np.concatenate([train_labels, np.array(augmented_labels)], axis=0)\n",
        "print(f\"Augmented data shape: {x_aug.shape}, labels shape: {y_aug.shape}\")"
      ],
      "metadata": {
        "colab": {
          "base_uri": "https://localhost:8080/"
        },
        "id": "kQfmALc_TzmK",
        "outputId": "193355eb-d5f8-4d7f-d2fe-498f61f806f2"
      },
      "execution_count": 3,
      "outputs": [
        {
          "output_type": "stream",
          "name": "stdout",
          "text": [
            "Class 1: found 179 images\n",
            "Class 2: found 316 images\n",
            "Class 3: found 192 images\n",
            "Class 4: found 190 images\n",
            "Class 5: found 180 images\n",
            "Class 6: found 183 images\n",
            "Class 7: found 175 images\n",
            "Class 8: found 194 images\n",
            "Class 9: found 204 images\n",
            "Class 10: found 230 images\n",
            "Class 11: found 171 images\n",
            "Class 12: found 228 images\n",
            "Class 13: found 191 images\n",
            "Class 14: found 225 images\n",
            "Class 15: found 234 images\n",
            "Class 16: found 197 images\n",
            "Class 17: found 220 images\n",
            "Class 18: found 198 images\n",
            "Class 19: found 250 images\n",
            "Class 20: found 211 images\n",
            "Class 21: found 202 images\n",
            "Class 22: found 210 images\n",
            "Class 23: found 201 images\n",
            "Class 24: found 186 images\n",
            "Class 25: found 198 images\n",
            "Class 26: found 191 images\n",
            "Class 27: found 205 images\n",
            "Class 28: found 180 images\n",
            "Class 29: found 200 images\n",
            "Class 30: found 209 images\n",
            "Class 31: found 190 images\n",
            "Class 32: found 185 images\n",
            "Class 33: found 197 images\n",
            "Class 34: found 213 images\n",
            "Class 35: found 213 images\n",
            "Class 36: found 215 images\n",
            "Class 37: found 207 images\n",
            "Class 38: found 197 images\n",
            "Class 39: found 198 images\n",
            "Class 40: found 177 images\n",
            "Class 41: found 209 images\n",
            "Class 42: found 205 images\n",
            "Class 43: found 198 images\n",
            "Class 44: found 217 images\n",
            "Class 45: found 206 images\n",
            "Class 46: found 201 images\n",
            "Class 47: found 180 images\n",
            "Class 48: found 210 images\n",
            "Class 49: found 204 images\n",
            "Class 50: found 197 images\n",
            "Class 51: found 206 images\n",
            "Class 52: found 200 images\n",
            "Class 53: found 205 images\n",
            "Class 54: found 192 images\n",
            "Class 55: found 209 images\n",
            "Class 56: found 214 images\n",
            "Class 57: found 219 images\n",
            "Class 58: found 217 images\n",
            "Class 59: found 221 images\n",
            "Class 60: found 223 images\n",
            "Class 61: found 212 images\n",
            "Class 62: found 201 images\n",
            "Class 63: found 213 images\n",
            "Class 64: found 216 images\n",
            "Class 65: found 208 images\n",
            "Class 66: found 216 images\n",
            "Class 67: found 207 images\n",
            "Class 68: found 217 images\n",
            "Class 69: found 204 images\n",
            "Class 70: found 138 images\n",
            "Class 71: found 210 images\n",
            "Class 72: found 207 images\n",
            "Class 73: found 186 images\n",
            "Class 74: found 218 images\n",
            "Class 75: found 202 images\n",
            "Class 76: found 189 images\n",
            "Class 77: found 213 images\n",
            "Class 78: found 216 images\n",
            "Class 79: found 196 images\n",
            "Class 80: found 173 images\n",
            "Class 81: found 180 images\n",
            "Class 82: found 195 images\n",
            "Class 83: found 166 images\n",
            "Class 84: found 177 images\n",
            "Class 85: found 200 images\n",
            "Augmented data shape: (21316, 32, 32, 3), labels shape: (21316,)\n"
          ]
        }
      ]
    },
    {
      "cell_type": "markdown",
      "source": [
        "## One hot encoding"
      ],
      "metadata": {
        "id": "rNfEAw0VvKnR"
      }
    },
    {
      "cell_type": "code",
      "source": [
        "y_aug_new = np.array(y_aug) - 1\n",
        "test_labels_new = np.array(test_labels) - 1\n",
        "validate_labels_new = np.array(validate_labels) - 1\n",
        "\n",
        "y_aug_encoded = to_categorical(y_aug_new, num_classes=num_classes)\n",
        "test_labels_encoded = to_categorical(test_labels_new, num_classes=num_classes)\n",
        "validate_labels_encoded = to_categorical(validate_labels_new, num_classes=num_classes)"
      ],
      "metadata": {
        "id": "v7I-iMBAUQ8a"
      },
      "execution_count": 4,
      "outputs": []
    },
    {
      "cell_type": "code",
      "source": [
        "from tensorflow.keras.applications import ResNet50V2\n",
        "\n",
        "base_model = ResNet50V2(\n",
        "    weights='imagenet',\n",
        "    include_top=False,\n",
        "    input_shape=(32, 32, 3),\n",
        "    classes=num_classes\n",
        ")"
      ],
      "metadata": {
        "id": "cj64jNyvUdPG",
        "colab": {
          "base_uri": "https://localhost:8080/"
        },
        "outputId": "ab36c2fd-9ff9-4224-ce60-4d3d4bb38323"
      },
      "execution_count": 5,
      "outputs": [
        {
          "output_type": "stream",
          "name": "stdout",
          "text": [
            "Downloading data from https://storage.googleapis.com/tensorflow/keras-applications/resnet/resnet50v2_weights_tf_dim_ordering_tf_kernels_notop.h5\n",
            "\u001b[1m94668760/94668760\u001b[0m \u001b[32m━━━━━━━━━━━━━━━━━━━━\u001b[0m\u001b[37m\u001b[0m \u001b[1m3s\u001b[0m 0us/step\n"
          ]
        }
      ]
    },
    {
      "cell_type": "code",
      "source": [
        "base_model.trainable = False\n",
        "for layer in base_model.layers[-3:]:\n",
        "    layer.trainable = True"
      ],
      "metadata": {
        "id": "d22IYWr8Uj7V"
      },
      "execution_count": 6,
      "outputs": []
    },
    {
      "cell_type": "code",
      "source": [
        "model = Sequential([\n",
        "    base_model,\n",
        "    GlobalAveragePooling2D(),\n",
        "    Dense(85, activation='softmax')\n",
        "    ])"
      ],
      "metadata": {
        "id": "sBfK2xxiUmOH"
      },
      "execution_count": 7,
      "outputs": []
    },
    {
      "cell_type": "code",
      "source": [
        "model.summary()"
      ],
      "metadata": {
        "colab": {
          "base_uri": "https://localhost:8080/",
          "height": 287
        },
        "id": "ttUzxoxkU0Q9",
        "outputId": "9f36fc5a-9ab7-4d40-8705-04430fa8c9f8"
      },
      "execution_count": 8,
      "outputs": [
        {
          "output_type": "display_data",
          "data": {
            "text/plain": [
              "\u001b[1mModel: \"sequential\"\u001b[0m\n"
            ],
            "text/html": [
              "<pre style=\"white-space:pre;overflow-x:auto;line-height:normal;font-family:Menlo,'DejaVu Sans Mono',consolas,'Courier New',monospace\"><span style=\"font-weight: bold\">Model: \"sequential\"</span>\n",
              "</pre>\n"
            ]
          },
          "metadata": {}
        },
        {
          "output_type": "display_data",
          "data": {
            "text/plain": [
              "┏━━━━━━━━━━━━━━━━━━━━━━━━━━━━━━━━━┳━━━━━━━━━━━━━━━━━━━━━━━━┳━━━━━━━━━━━━━━━┓\n",
              "┃\u001b[1m \u001b[0m\u001b[1mLayer (type)                   \u001b[0m\u001b[1m \u001b[0m┃\u001b[1m \u001b[0m\u001b[1mOutput Shape          \u001b[0m\u001b[1m \u001b[0m┃\u001b[1m \u001b[0m\u001b[1m      Param #\u001b[0m\u001b[1m \u001b[0m┃\n",
              "┡━━━━━━━━━━━━━━━━━━━━━━━━━━━━━━━━━╇━━━━━━━━━━━━━━━━━━━━━━━━╇━━━━━━━━━━━━━━━┩\n",
              "│ resnet50v2 (\u001b[38;5;33mFunctional\u001b[0m)         │ (\u001b[38;5;45mNone\u001b[0m, \u001b[38;5;34m1\u001b[0m, \u001b[38;5;34m1\u001b[0m, \u001b[38;5;34m2048\u001b[0m)     │    \u001b[38;5;34m23,564,800\u001b[0m │\n",
              "├─────────────────────────────────┼────────────────────────┼───────────────┤\n",
              "│ global_average_pooling2d        │ (\u001b[38;5;45mNone\u001b[0m, \u001b[38;5;34m2048\u001b[0m)           │             \u001b[38;5;34m0\u001b[0m │\n",
              "│ (\u001b[38;5;33mGlobalAveragePooling2D\u001b[0m)        │                        │               │\n",
              "├─────────────────────────────────┼────────────────────────┼───────────────┤\n",
              "│ dense (\u001b[38;5;33mDense\u001b[0m)                   │ (\u001b[38;5;45mNone\u001b[0m, \u001b[38;5;34m85\u001b[0m)             │       \u001b[38;5;34m174,165\u001b[0m │\n",
              "└─────────────────────────────────┴────────────────────────┴───────────────┘\n"
            ],
            "text/html": [
              "<pre style=\"white-space:pre;overflow-x:auto;line-height:normal;font-family:Menlo,'DejaVu Sans Mono',consolas,'Courier New',monospace\">┏━━━━━━━━━━━━━━━━━━━━━━━━━━━━━━━━━┳━━━━━━━━━━━━━━━━━━━━━━━━┳━━━━━━━━━━━━━━━┓\n",
              "┃<span style=\"font-weight: bold\"> Layer (type)                    </span>┃<span style=\"font-weight: bold\"> Output Shape           </span>┃<span style=\"font-weight: bold\">       Param # </span>┃\n",
              "┡━━━━━━━━━━━━━━━━━━━━━━━━━━━━━━━━━╇━━━━━━━━━━━━━━━━━━━━━━━━╇━━━━━━━━━━━━━━━┩\n",
              "│ resnet50v2 (<span style=\"color: #0087ff; text-decoration-color: #0087ff\">Functional</span>)         │ (<span style=\"color: #00d7ff; text-decoration-color: #00d7ff\">None</span>, <span style=\"color: #00af00; text-decoration-color: #00af00\">1</span>, <span style=\"color: #00af00; text-decoration-color: #00af00\">1</span>, <span style=\"color: #00af00; text-decoration-color: #00af00\">2048</span>)     │    <span style=\"color: #00af00; text-decoration-color: #00af00\">23,564,800</span> │\n",
              "├─────────────────────────────────┼────────────────────────┼───────────────┤\n",
              "│ global_average_pooling2d        │ (<span style=\"color: #00d7ff; text-decoration-color: #00d7ff\">None</span>, <span style=\"color: #00af00; text-decoration-color: #00af00\">2048</span>)           │             <span style=\"color: #00af00; text-decoration-color: #00af00\">0</span> │\n",
              "│ (<span style=\"color: #0087ff; text-decoration-color: #0087ff\">GlobalAveragePooling2D</span>)        │                        │               │\n",
              "├─────────────────────────────────┼────────────────────────┼───────────────┤\n",
              "│ dense (<span style=\"color: #0087ff; text-decoration-color: #0087ff\">Dense</span>)                   │ (<span style=\"color: #00d7ff; text-decoration-color: #00d7ff\">None</span>, <span style=\"color: #00af00; text-decoration-color: #00af00\">85</span>)             │       <span style=\"color: #00af00; text-decoration-color: #00af00\">174,165</span> │\n",
              "└─────────────────────────────────┴────────────────────────┴───────────────┘\n",
              "</pre>\n"
            ]
          },
          "metadata": {}
        },
        {
          "output_type": "display_data",
          "data": {
            "text/plain": [
              "\u001b[1m Total params: \u001b[0m\u001b[38;5;34m23,738,965\u001b[0m (90.56 MB)\n"
            ],
            "text/html": [
              "<pre style=\"white-space:pre;overflow-x:auto;line-height:normal;font-family:Menlo,'DejaVu Sans Mono',consolas,'Courier New',monospace\"><span style=\"font-weight: bold\"> Total params: </span><span style=\"color: #00af00; text-decoration-color: #00af00\">23,738,965</span> (90.56 MB)\n",
              "</pre>\n"
            ]
          },
          "metadata": {}
        },
        {
          "output_type": "display_data",
          "data": {
            "text/plain": [
              "\u001b[1m Trainable params: \u001b[0m\u001b[38;5;34m178,261\u001b[0m (696.33 KB)\n"
            ],
            "text/html": [
              "<pre style=\"white-space:pre;overflow-x:auto;line-height:normal;font-family:Menlo,'DejaVu Sans Mono',consolas,'Courier New',monospace\"><span style=\"font-weight: bold\"> Trainable params: </span><span style=\"color: #00af00; text-decoration-color: #00af00\">178,261</span> (696.33 KB)\n",
              "</pre>\n"
            ]
          },
          "metadata": {}
        },
        {
          "output_type": "display_data",
          "data": {
            "text/plain": [
              "\u001b[1m Non-trainable params: \u001b[0m\u001b[38;5;34m23,560,704\u001b[0m (89.88 MB)\n"
            ],
            "text/html": [
              "<pre style=\"white-space:pre;overflow-x:auto;line-height:normal;font-family:Menlo,'DejaVu Sans Mono',consolas,'Courier New',monospace\"><span style=\"font-weight: bold\"> Non-trainable params: </span><span style=\"color: #00af00; text-decoration-color: #00af00\">23,560,704</span> (89.88 MB)\n",
              "</pre>\n"
            ]
          },
          "metadata": {}
        }
      ]
    },
    {
      "cell_type": "code",
      "source": [
        "model.compile(\n",
        "    optimizer=tf.keras.optimizers.Adam(learning_rate=0.001),\n",
        "    loss='categorical_crossentropy',\n",
        "    metrics=['accuracy']\n",
        ")"
      ],
      "metadata": {
        "id": "nj_r0CraU1Gf"
      },
      "execution_count": 9,
      "outputs": []
    },
    {
      "cell_type": "code",
      "source": [
        "epochs = 10\n",
        "\n",
        "callbacks = [\n",
        "    tf.keras.callbacks.ModelCheckpoint(\n",
        "        filepath='malayalam_mobilenetv3.keras',\n",
        "        save_best_only=True,\n",
        "        monitor='val_accuracy'\n",
        "    ),\n",
        "    tf.keras.callbacks.EarlyStopping(\n",
        "    monitor='val_accuracy',\n",
        "    patience=10,\n",
        "    mode='max',\n",
        "    restore_best_weights=True\n",
        "    )\n",
        "]"
      ],
      "metadata": {
        "id": "FV8eiTDqU4rU"
      },
      "execution_count": 10,
      "outputs": []
    },
    {
      "cell_type": "code",
      "source": [
        "history = model.fit(\n",
        "    x_aug, y_aug_encoded,\n",
        "    epochs=epochs,\n",
        "    validation_data=(validate_images, validate_labels_encoded),\n",
        "    callbacks=callbacks,\n",
        ")"
      ],
      "metadata": {
        "colab": {
          "base_uri": "https://localhost:8080/"
        },
        "id": "ZYzVpSu1U5b9",
        "outputId": "3d903f22-be6f-4aac-f257-f51b8e317ec0"
      },
      "execution_count": 11,
      "outputs": [
        {
          "output_type": "stream",
          "name": "stdout",
          "text": [
            "Epoch 1/10\n",
            "\u001b[1m667/667\u001b[0m \u001b[32m━━━━━━━━━━━━━━━━━━━━\u001b[0m\u001b[37m\u001b[0m \u001b[1m130s\u001b[0m 182ms/step - accuracy: 0.3799 - loss: 2.7598 - val_accuracy: 0.6417 - val_loss: 1.4877\n",
            "Epoch 2/10\n",
            "\u001b[1m667/667\u001b[0m \u001b[32m━━━━━━━━━━━━━━━━━━━━\u001b[0m\u001b[37m\u001b[0m \u001b[1m133s\u001b[0m 200ms/step - accuracy: 0.7038 - loss: 1.1254 - val_accuracy: 0.7020 - val_loss: 1.2237\n",
            "Epoch 3/10\n",
            "\u001b[1m667/667\u001b[0m \u001b[32m━━━━━━━━━━━━━━━━━━━━\u001b[0m\u001b[37m\u001b[0m \u001b[1m113s\u001b[0m 169ms/step - accuracy: 0.7832 - loss: 0.7797 - val_accuracy: 0.7264 - val_loss: 1.1382\n",
            "Epoch 4/10\n",
            "\u001b[1m667/667\u001b[0m \u001b[32m━━━━━━━━━━━━━━━━━━━━\u001b[0m\u001b[37m\u001b[0m \u001b[1m165s\u001b[0m 204ms/step - accuracy: 0.8263 - loss: 0.6064 - val_accuracy: 0.7492 - val_loss: 1.0614\n",
            "Epoch 5/10\n",
            "\u001b[1m667/667\u001b[0m \u001b[32m━━━━━━━━━━━━━━━━━━━━\u001b[0m\u001b[37m\u001b[0m \u001b[1m134s\u001b[0m 202ms/step - accuracy: 0.8581 - loss: 0.4792 - val_accuracy: 0.7558 - val_loss: 1.0175\n",
            "Epoch 6/10\n",
            "\u001b[1m667/667\u001b[0m \u001b[32m━━━━━━━━━━━━━━━━━━━━\u001b[0m\u001b[37m\u001b[0m \u001b[1m142s\u001b[0m 201ms/step - accuracy: 0.8723 - loss: 0.4172 - val_accuracy: 0.7649 - val_loss: 1.0082\n",
            "Epoch 7/10\n",
            "\u001b[1m667/667\u001b[0m \u001b[32m━━━━━━━━━━━━━━━━━━━━\u001b[0m\u001b[37m\u001b[0m \u001b[1m132s\u001b[0m 198ms/step - accuracy: 0.8899 - loss: 0.3612 - val_accuracy: 0.7688 - val_loss: 1.0087\n",
            "Epoch 8/10\n",
            "\u001b[1m667/667\u001b[0m \u001b[32m━━━━━━━━━━━━━━━━━━━━\u001b[0m\u001b[37m\u001b[0m \u001b[1m124s\u001b[0m 171ms/step - accuracy: 0.9024 - loss: 0.3132 - val_accuracy: 0.7635 - val_loss: 1.0319\n",
            "Epoch 9/10\n",
            "\u001b[1m667/667\u001b[0m \u001b[32m━━━━━━━━━━━━━━━━━━━━\u001b[0m\u001b[37m\u001b[0m \u001b[1m131s\u001b[0m 197ms/step - accuracy: 0.9114 - loss: 0.2936 - val_accuracy: 0.7713 - val_loss: 1.0560\n",
            "Epoch 10/10\n",
            "\u001b[1m667/667\u001b[0m \u001b[32m━━━━━━━━━━━━━━━━━━━━\u001b[0m\u001b[37m\u001b[0m \u001b[1m142s\u001b[0m 198ms/step - accuracy: 0.9172 - loss: 0.2727 - val_accuracy: 0.7776 - val_loss: 1.0443\n"
          ]
        }
      ]
    },
    {
      "cell_type": "code",
      "source": [
        "model.evaluate(test_images, test_labels_encoded)"
      ],
      "metadata": {
        "colab": {
          "base_uri": "https://localhost:8080/"
        },
        "id": "AIWLgU0VU9DB",
        "outputId": "f940379d-96fb-45ac-ffab-8d49fd23bd75"
      },
      "execution_count": 12,
      "outputs": [
        {
          "output_type": "stream",
          "name": "stdout",
          "text": [
            "\u001b[1m199/199\u001b[0m \u001b[32m━━━━━━━━━━━━━━━━━━━━\u001b[0m\u001b[37m\u001b[0m \u001b[1m27s\u001b[0m 134ms/step - accuracy: 0.6912 - loss: 1.9811\n"
          ]
        },
        {
          "output_type": "execute_result",
          "data": {
            "text/plain": [
              "[2.2494280338287354, 0.6463280320167542]"
            ]
          },
          "metadata": {},
          "execution_count": 12
        }
      ]
    },
    {
      "cell_type": "code",
      "source": [
        "model.compile(\n",
        "    optimizer=tf.keras.optimizers.Adam(learning_rate=0.0001),\n",
        "    loss='categorical_crossentropy',\n",
        "    metrics=['accuracy']\n",
        ")"
      ],
      "metadata": {
        "id": "9Uh70mFdVAGW"
      },
      "execution_count": 13,
      "outputs": []
    },
    {
      "cell_type": "code",
      "source": [
        "fine_history = model.fit(\n",
        "    x_aug, y_aug_encoded,\n",
        "    epochs=12,\n",
        "    validation_data=(validate_images, validate_labels_encoded),\n",
        "    initial_epoch=history.epoch[-1]+1,\n",
        "    callbacks=callbacks\n",
        ")"
      ],
      "metadata": {
        "colab": {
          "base_uri": "https://localhost:8080/"
        },
        "id": "gkVA9a7bVMt4",
        "outputId": "2e604cfa-6bf1-4d87-eff3-ffa07236cc62"
      },
      "execution_count": 14,
      "outputs": [
        {
          "output_type": "stream",
          "name": "stdout",
          "text": [
            "Epoch 11/12\n",
            "\u001b[1m667/667\u001b[0m \u001b[32m━━━━━━━━━━━━━━━━━━━━\u001b[0m\u001b[37m\u001b[0m \u001b[1m146s\u001b[0m 205ms/step - accuracy: 0.9360 - loss: 0.2162 - val_accuracy: 0.7869 - val_loss: 0.9888\n",
            "Epoch 12/12\n",
            "\u001b[1m667/667\u001b[0m \u001b[32m━━━━━━━━━━━━━━━━━━━━\u001b[0m\u001b[37m\u001b[0m \u001b[1m115s\u001b[0m 173ms/step - accuracy: 0.9416 - loss: 0.1891 - val_accuracy: 0.7900 - val_loss: 0.9836\n"
          ]
        }
      ]
    },
    {
      "cell_type": "code",
      "source": [
        "model.evaluate(test_images, test_labels_encoded)"
      ],
      "metadata": {
        "colab": {
          "base_uri": "https://localhost:8080/"
        },
        "id": "wnWI7GXhVQ2E",
        "outputId": "ccf5ea03-968e-45fd-8fdb-95f44af360ad"
      },
      "execution_count": 15,
      "outputs": [
        {
          "output_type": "stream",
          "name": "stdout",
          "text": [
            "\u001b[1m199/199\u001b[0m \u001b[32m━━━━━━━━━━━━━━━━━━━━\u001b[0m\u001b[37m\u001b[0m \u001b[1m26s\u001b[0m 131ms/step - accuracy: 0.7014 - loss: 1.9235\n"
          ]
        },
        {
          "output_type": "execute_result",
          "data": {
            "text/plain": [
              "[2.2107698917388916, 0.6532473564147949]"
            ]
          },
          "metadata": {},
          "execution_count": 15
        }
      ]
    },
    {
      "cell_type": "code",
      "source": [
        "# Plot training history\n",
        "plt.plot(fine_history.history['accuracy'], label='Train Accuracy')\n",
        "plt.plot(fine_history.history['val_accuracy'], label='Validation Accuracy')\n",
        "plt.xlabel('Epochs')\n",
        "plt.ylabel('Accuracy')\n",
        "plt.legend()\n",
        "plt.title('Training and Validation Accuracy')\n",
        "plt.show()"
      ],
      "metadata": {
        "colab": {
          "base_uri": "https://localhost:8080/",
          "height": 472
        },
        "id": "fngdkATbVSup",
        "outputId": "bae2e598-7d0c-411f-b9e1-34215bebdba3"
      },
      "execution_count": 16,
      "outputs": [
        {
          "output_type": "display_data",
          "data": {
            "text/plain": [
              "<Figure size 640x480 with 1 Axes>"
            ],
            "image/png": "[encoded data removed]"
          },
          "metadata": {}
        }
      ]
    },
    {
      "cell_type": "code",
      "source": [
        "from tensorflow.keras.models import load_model\n",
        "best_model = load_model(\"malayalam_mobilenetv3.keras\")\n",
        "\n",
        "test_loss, test_acc = best_model.evaluate(test_images, test_labels_encoded)"
      ],
      "metadata": {
        "colab": {
          "base_uri": "https://localhost:8080/"
        },
        "id": "Ucnj-Dm8jw_p",
        "outputId": "1e8553c3-a4d9-4d09-b180-4cd3d30773af"
      },
      "execution_count": 17,
      "outputs": [
        {
          "output_type": "stream",
          "name": "stdout",
          "text": [
            "\u001b[1m199/199\u001b[0m \u001b[32m━━━━━━━━━━━━━━━━━━━━\u001b[0m\u001b[37m\u001b[0m \u001b[1m32s\u001b[0m 133ms/step - accuracy: 0.7014 - loss: 1.9235\n"
          ]
        }
      ]
    },
    {
      "cell_type": "code",
      "source": [
        "def display_image(img, label):\n",
        "    plt.imshow(np.mean(img, axis=-1), cmap='gray', vmin=0, vmax=1)\n",
        "    plt.axis('off')\n",
        "    plt.title(label)\n",
        "    plt.show()"
      ],
      "metadata": {
        "id": "zD963p2bljUV"
      },
      "execution_count": 18,
      "outputs": []
    },
    {
      "cell_type": "code",
      "source": [
        "import random\n",
        "\n",
        "class_names = np.unique(train_labels)\n",
        "print(class_names)\n",
        "\n",
        "# Select 10 random images\n",
        "fig, axes = plt.subplots(2, 5, figsize=(15, 6))\n",
        "fig.suptitle(\"Actual vs. Predicted Labels\", fontsize=16)\n",
        "\n",
        "for i, ax in enumerate(axes.flat):\n",
        "    # Randomly select an image index\n",
        "    random_index = random.randint(0, len(test_images) - 1)\n",
        "\n",
        "    # Get the image and its actual label\n",
        "    img_array = test_images[random_index]\n",
        "    actual_label = test_labels[random_index]\n",
        "\n",
        "    # Get the prediction\n",
        "    prediction = model.predict(np.expand_dims(img_array, axis=0))\n",
        "    predicted_class = class_names[np.argmax(prediction)]\n",
        "\n",
        "    # Plot the image with actual and predicted labels\n",
        "    gray_image = np.mean(img_array, axis=-1)\n",
        "    ax.imshow(gray_image, cmap='gray')\n",
        "    ax.set_title(f\"Actual: {actual_label}\\nPredicted: {predicted_class}\")\n",
        "    ax.axis(\"off\")\n",
        "\n",
        "plt.tight_layout()\n",
        "plt.show()"
      ],
      "metadata": {
        "colab": {
          "base_uri": "https://localhost:8080/",
          "height": 900
        },
        "id": "DT7DRtGTkbIF",
        "outputId": "ad174bb1-6b6f-4586-d50b-d92c2d92da19"
      },
      "execution_count": 19,
      "outputs": [
        {
          "output_type": "stream",
          "name": "stdout",
          "text": [
            "[ 1  2  3  4  5  6  7  8  9 10 11 12 13 14 15 16 17 18 19 20 21 22 23 24\n",
            " 25 26 27 28 29 30 31 32 33 34 35 36 37 38 39 40 41 42 43 44 45 46 47 48\n",
            " 49 50 51 52 53 54 55 56 57 58 59 60 61 62 63 64 65 66 67 68 69 70 71 72\n",
            " 73 74 75 76 77 78 79 80 81 82 83 84 85]\n",
            "\u001b[1m1/1\u001b[0m \u001b[32m━━━━━━━━━━━━━━━━━━━━\u001b[0m\u001b[37m\u001b[0m \u001b[1m2s\u001b[0m 2s/step\n",
            "\u001b[1m1/1\u001b[0m \u001b[32m━━━━━━━━━━━━━━━━━━━━\u001b[0m\u001b[37m\u001b[0m \u001b[1m0s\u001b[0m 58ms/step\n",
            "\u001b[1m1/1\u001b[0m \u001b[32m━━━━━━━━━━━━━━━━━━━━\u001b[0m\u001b[37m\u001b[0m \u001b[1m0s\u001b[0m 58ms/step\n",
            "\u001b[1m1/1\u001b[0m \u001b[32m━━━━━━━━━━━━━━━━━━━━\u001b[0m\u001b[37m\u001b[0m \u001b[1m0s\u001b[0m 60ms/step\n",
            "\u001b[1m1/1\u001b[0m \u001b[32m━━━━━━━━━━━━━━━━━━━━\u001b[0m\u001b[37m\u001b[0m \u001b[1m0s\u001b[0m 57ms/step\n",
            "\u001b[1m1/1\u001b[0m \u001b[32m━━━━━━━━━━━━━━━━━━━━\u001b[0m\u001b[37m\u001b[0m \u001b[1m0s\u001b[0m 57ms/step\n",
            "\u001b[1m1/1\u001b[0m \u001b[32m━━━━━━━━━━━━━━━━━━━━\u001b[0m\u001b[37m\u001b[0m \u001b[1m0s\u001b[0m 58ms/step\n",
            "\u001b[1m1/1\u001b[0m \u001b[32m━━━━━━━━━━━━━━━━━━━━\u001b[0m\u001b[37m\u001b[0m \u001b[1m0s\u001b[0m 64ms/step\n",
            "\u001b[1m1/1\u001b[0m \u001b[32m━━━━━━━━━━━━━━━━━━━━\u001b[0m\u001b[37m\u001b[0m \u001b[1m0s\u001b[0m 57ms/step\n",
            "\u001b[1m1/1\u001b[0m \u001b[32m━━━━━━━━━━━━━━━━━━━━\u001b[0m\u001b[37m\u001b[0m \u001b[1m0s\u001b[0m 54ms/step\n"
          ]
        },
        {
          "output_type": "display_data",
          "data": {
            "text/plain": [
              "<Figure size 1500x600 with 10 Axes>"
            ],
            "image/png": "[encoded data removed]"
          },
          "metadata": {}
        }
      ]
    },
    {
      "cell_type": "code",
      "source": [
        "display_image(x_aug[13000], y_aug[13000])"
      ],
      "metadata": {
        "colab": {
          "base_uri": "https://localhost:8080/",
          "height": 428
        },
        "id": "8yOiBXk-4ONB",
        "outputId": "08a5cd15-d278-492d-ade0-1df0c302732e"
      },
      "execution_count": 20,
      "outputs": [
        {
          "output_type": "display_data",
          "data": {
            "text/plain": [
              "<Figure size 640x480 with 1 Axes>"
            ],
            "image/png": "[encoded data removed]"
          },
          "metadata": {}
        }
      ]
    }
  ]
}